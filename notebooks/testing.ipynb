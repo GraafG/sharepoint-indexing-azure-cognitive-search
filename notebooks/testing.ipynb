{
 "cells": [
  {
   "cell_type": "code",
   "execution_count": 1,
   "metadata": {},
   "outputs": [
    {
     "name": "stdout",
     "output_type": "stream",
     "text": [
      "Directory changed to C:\\Users\\pablosal\\Desktop\\sharepoint-indexing-azure-cognitive-search\n"
     ]
    }
   ],
   "source": [
    "import os\n",
    "from dotenv import load_dotenv\n",
    "from langchain.embeddings.openai import OpenAIEmbeddings\n",
    "from langchain.text_splitter import RecursiveCharacterTextSplitter\n",
    "from langchain.document_loaders import PyPDFLoader\n",
    "import openai\n",
    "\n",
    "# Define the target directory\n",
    "target_directory = r'C:\\Users\\pablosal\\Desktop\\sharepoint-indexing-azure-cognitive-search'\n",
    "\n",
    "# Load .env file\n",
    "load_dotenv()\n",
    "\n",
    "# Check if the directory exists\n",
    "if os.path.exists(target_directory):\n",
    "    # Change the current working directory\n",
    "    os.chdir(target_directory)\n",
    "    print(f\"Directory changed to {os.getcwd()}\")\n",
    "else:\n",
    "    print(f\"Directory {target_directory} does not exist.\")"
   ]
  },
  {
   "cell_type": "code",
   "execution_count": 2,
   "metadata": {},
   "outputs": [],
   "source": [
    "from gbb_ai.azure_search_sharepoint_extension import retrieve_sharepoint_files_content"
   ]
  },
  {
   "cell_type": "code",
   "execution_count": 3,
   "metadata": {},
   "outputs": [],
   "source": [
    "site_domain = 'mngenvmcap747548.sharepoint.com'\n",
    "site_name = 'Contoso'"
   ]
  },
  {
   "cell_type": "code",
   "execution_count": 4,
   "metadata": {},
   "outputs": [
    {
     "name": "stderr",
     "output_type": "stream",
     "text": [
      "2023-12-09 16:25:47,221 - micro - MainProcess - INFO     New access token retrieved.... (azure_search_sharepoint_extension.py:msgraph_auth:64)\n",
      "2023-12-09 16:25:47,225 - micro - MainProcess - INFO     Decoded Access Token:\n",
      "{\n",
      "  \"aud\": \"https://graph.microsoft.com\",\n",
      "  \"iss\": \"https://sts.windows.net/9495d8c9-4ebb-4107-b905-c7b45d1b7b7a/\",\n",
      "  \"iat\": 1702160447,\n",
      "  \"nbf\": 1702160447,\n",
      "  \"exp\": 1702164347,\n",
      "  \"aio\": \"E2VgYCiPtH8W/rjJOujhzettlsbXAQ==\",\n",
      "  \"app_displayname\": \"dev-graph\",\n",
      "  \"appid\": \"118583ee-94ed-45dd-870b-73784045eb37\",\n",
      "  \"appidacr\": \"1\",\n",
      "  \"idp\": \"https://sts.windows.net/9495d8c9-4ebb-4107-b905-c7b45d1b7b7a/\",\n",
      "  \"idtyp\": \"app\",\n",
      "  \"oid\": \"4f614374-65fa-45fc-8369-cb616a6fe08f\",\n",
      "  \"rh\": \"0.Ab0AydiVlLtOB0G5Bce0XRt7egMAAAAAAAAAwAAAAAAAAADLAAA.\",\n",
      "  \"roles\": [\n",
      "    \"TeamsActivity.Read.All\",\n",
      "    \"SharePointTenantSettings.Read.All\",\n",
      "    \"People.Read.All\",\n",
      "    \"Sites.Read.All\",\n",
      "    \"Sites.Manage.All\",\n",
      "    \"Directory.Read.All\",\n",
      "    \"OnlineMeetingTranscript.Read.All\",\n",
      "    \"BrowserSiteLists.ReadWrite.All\",\n",
      "    \"Files.Read.All\",\n",
      "    \"Mail.Read\",\n",
      "    \"Chat.Read.All\"\n",
      "  ],\n",
      "  \"sub\": \"4f614374-65fa-45fc-8369-cb616a6fe08f\",\n",
      "  \"tenant_region_scope\": \"NA\",\n",
      "  \"tid\": \"9495d8c9-4ebb-4107-b905-c7b45d1b7b7a\",\n",
      "  \"uti\": \"HxamLuN9a0uKVVFhHYEdAA\",\n",
      "  \"ver\": \"1.0\",\n",
      "  \"wids\": [\n",
      "    \"0997a1d0-0d1d-4acb-b408-d5ca73121e90\"\n",
      "  ],\n",
      "  \"xms_tcdt\": 1697638621\n",
      "} (azure_search_sharepoint_extension.py:msgraph_auth:80)\n",
      "2023-12-09 16:25:47,225 - micro - MainProcess - INFO     Token Expires at: 2023-12-09 17:25:47 (azure_search_sharepoint_extension.py:msgraph_auth:84)\n",
      "2023-12-09 16:25:47,232 - micro - MainProcess - INFO     Getting the Site ID... (azure_search_sharepoint_extension.py:get_site_id:126)\n",
      "2023-12-09 16:25:48,180 - micro - MainProcess - INFO     Site ID retrieved: mngenvmcap747548.sharepoint.com,877fe60f-a62d-4ed1-8eda-af543c437d2c,ac47d8a7-cd54-4344-bd9d-26ada5a075c0 (azure_search_sharepoint_extension.py:get_site_id:130)\n",
      "2023-12-09 16:25:49,137 - micro - MainProcess - INFO     Making request to Microsoft Graph API (azure_search_sharepoint_extension.py:get_files_in_site:175)\n",
      "2023-12-09 16:25:49,958 - micro - MainProcess - INFO     Received response from Microsoft Graph API (azure_search_sharepoint_extension.py:get_files_in_site:178)\n",
      "2023-12-09 16:25:49,962 - micro - MainProcess - INFO     Fetching content for file: test.docx (azure_search_sharepoint_extension.py:retrieve_sharepoint_files_content:338)\n",
      "2023-12-09 16:25:49,964 - micro - MainProcess - INFO     Starting request for file: test.docx (azure_search_sharepoint_extension.py:get_docx_content:279)\n",
      "2023-12-09 16:25:51,966 - micro - MainProcess - INFO     Successfully retrieved content for file: test.docx (azure_search_sharepoint_extension.py:get_docx_content:295)\n",
      "2023-12-09 16:25:52,796 - micro - MainProcess - ERROR    Error in retrieve_sharepoint_files_content function: 'str' object has no attribute 'get' (azure_search_sharepoint_extension.py:retrieve_sharepoint_files_content:353)\n"
     ]
    }
   ],
   "source": [
    "content_files = retrieve_sharepoint_files_content(site_domain=site_domain, site_name=site_name, minutes_ago=None,file_formats=[\"docx\"])"
   ]
  },
  {
   "cell_type": "code",
   "execution_count": 5,
   "metadata": {},
   "outputs": [
    {
     "ename": "TypeError",
     "evalue": "'NoneType' object is not subscriptable",
     "output_type": "error",
     "traceback": [
      "\u001b[1;31m---------------------------------------------------------------------------\u001b[0m",
      "\u001b[1;31mTypeError\u001b[0m                                 Traceback (most recent call last)",
      "\u001b[1;32mc:\\Users\\pablosal\\Desktop\\sharepoint-indexing-azure-cognitive-search\\notebooks\\testing.ipynb Cell 5\u001b[0m line \u001b[0;36m1\n\u001b[1;32m----> <a href='vscode-notebook-cell:/c%3A/Users/pablosal/Desktop/sharepoint-indexing-azure-cognitive-search/notebooks/testing.ipynb#W4sZmlsZQ%3D%3D?line=0'>1</a>\u001b[0m \u001b[39mtype\u001b[39m(content_files[\u001b[39m0\u001b[39;49m])\n",
      "\u001b[1;31mTypeError\u001b[0m: 'NoneType' object is not subscriptable"
     ]
    }
   ],
   "source": [
    "type(content_files[0])"
   ]
  },
  {
   "cell_type": "code",
   "execution_count": null,
   "metadata": {},
   "outputs": [],
   "source": [
    "OPENAI_KEY = os.getenv(\"OPENAI_KEY\")"
   ]
  },
  {
   "cell_type": "code",
   "execution_count": null,
   "metadata": {},
   "outputs": [],
   "source": [
    "# split documents into text and embeddings\n",
    "text_splitter = RecursiveCharacterTextSplitter(\n",
    "   chunk_size=1000, \n",
    "   chunk_overlap=50\n",
    ")\n",
    "\n",
    "chunks = text_splitter.split_documents(content_files)"
   ]
  },
  {
   "cell_type": "code",
   "execution_count": 13,
   "metadata": {},
   "outputs": [
    {
     "data": {
      "text/plain": [
       "[Document(page_content='A large language model (LLM) is a type of language model notable for its ability to achieve general-purpose language understanding and generation. LLMs acquire these abilities by using massive amounts of data to learn billions of parameters during training and consuming large computational resources during their training and operation.[1] LLMs are artificial neural networks (mainly transformers[2]) and are (pre-)trained using self-supervised learning and semi-supervised learning.\\nAs autoregressive language models, they work by taking an input text and repeatedly predicting the next token or word.[3] Up to 2020, fine tuning was the only way a model could be adapted to be able to accomplish specific tasks. Larger sized models, such as GPT-3, however, can be prompt-engineered to achieve similar results.[4] They are thought to acquire knowledge about syntax, semantics and \"ontology\" inherent in human language corpora, but also inaccuracies and biases present in the corpora.[5]', metadata={'source': 'https://graph.microsoft.com/v1.0/sites/mngenvmcap747548.sharepoint.com,877fe60f-a62d-4ed1-8eda-af543c437d2c,ac47d8a7-cd54-4344-bd9d-26ada5a075c0/drives/b!D-Z_hy2m0U6O2q9UPEN9LKfYR6xUzURDvZ0mraWgdcAot0GWx37EQLiVD3sO7-vm/root:/test.docx:/content', 'read_access_group': '{\"owner\": [\"Contoso Owners\", \"Contoso Owners\"], \"read\": [\"Contoso Visitors\"], \"write\": [\"Contoso Members\"]}', 'security_group': 'group1'}),\n",
       " Document(page_content=\"Notable examples include OpenAI's GPT models (e.g., GPT-3.5 and GPT-4, used in ChatGPT), Google's PaLM (used in Bard), and Meta's LLaMa, as well as BLOOM, Ernie 3.0 Titan, and Anthropic's Claude 2.\\nDataset preprocessing[edit]\\nSee also: List of datasets for machine-learning research § Internet\\nProbabilistic tokenization[edit]\", metadata={'source': 'https://graph.microsoft.com/v1.0/sites/mngenvmcap747548.sharepoint.com,877fe60f-a62d-4ed1-8eda-af543c437d2c,ac47d8a7-cd54-4344-bd9d-26ada5a075c0/drives/b!D-Z_hy2m0U6O2q9UPEN9LKfYR6xUzURDvZ0mraWgdcAot0GWx37EQLiVD3sO7-vm/root:/test.docx:/content', 'read_access_group': '{\"owner\": [\"Contoso Owners\", \"Contoso Owners\"], \"read\": [\"Contoso Visitors\"], \"write\": [\"Contoso Members\"]}', 'security_group': 'group1'}),\n",
       " Document(page_content='Probabilistic tokenization[edit]\\nUsing a modification of byte-pair encoding, in the first step, all unique characters (including blanks and punctuation marks) are treated as an initial set of n-grams (i.e. initial set of uni-grams). Successively the most frequent pair of adjacent characters is merged into a bi-gram and all instances of the pair are replaced by it. All occurrences of adjacent pairs of (previously merged) n-grams that most frequently occur together are then again merged into even lengthier n-gram repeatedly until a vocabulary of prescribed size is obtained (in case of GPT-3, the size is 50257).[6] Token vocabulary consists of integers, spanning from zero up to the size of the token vocabulary. New words can always be interpreted as combinations of the tokens and the initial-set uni-grams.[7]', metadata={'source': 'https://graph.microsoft.com/v1.0/sites/mngenvmcap747548.sharepoint.com,877fe60f-a62d-4ed1-8eda-af543c437d2c,ac47d8a7-cd54-4344-bd9d-26ada5a075c0/drives/b!D-Z_hy2m0U6O2q9UPEN9LKfYR6xUzURDvZ0mraWgdcAot0GWx37EQLiVD3sO7-vm/root:/test.docx:/content', 'read_access_group': '{\"owner\": [\"Contoso Owners\", \"Contoso Owners\"], \"read\": [\"Contoso Visitors\"], \"write\": [\"Contoso Members\"]}', 'security_group': 'group1'}),\n",
       " Document(page_content='A token vocabulary based on the frequencies extracted from mainly English corpora uses as few tokens as possible for an average English word. An average word in another language encoded by such an English-optimized tokenizer is however split into suboptimal amount of tokens.\\ntokenizer: texts -> series of numerical \"tokens\" may be split into:\\nProbabilistic tokenization also compresses the datasets, which is the reason for using the byte pair encoding algorithm as a tokenizer. Because LLMs generally require input to be an array that is not jagged, the shorter texts must be \"padded\" until they match the length of the longest one. How many tokens are, on average, needed per word depends on the language of the dataset.[8][9]\\nDataset cleaning[edit]', metadata={'source': 'https://graph.microsoft.com/v1.0/sites/mngenvmcap747548.sharepoint.com,877fe60f-a62d-4ed1-8eda-af543c437d2c,ac47d8a7-cd54-4344-bd9d-26ada5a075c0/drives/b!D-Z_hy2m0U6O2q9UPEN9LKfYR6xUzURDvZ0mraWgdcAot0GWx37EQLiVD3sO7-vm/root:/test.docx:/content', 'read_access_group': '{\"owner\": [\"Contoso Owners\", \"Contoso Owners\"], \"read\": [\"Contoso Visitors\"], \"write\": [\"Contoso Members\"]}', 'security_group': 'group1'}),\n",
       " Document(page_content='Dataset cleaning[edit]\\nRemoval of toxic passages from the dataset, discarding low-quality data, and de-duplication are examples of dataset cleaning.[10] Resulting, cleaned (high-quality) datasets contain up to 17 trillion words in 2022, raising from 985 million words, used in 2018 for GPT-1,[11] and 3.3 billion words, used for BERT.[12] The future data is, however, expected to be increasingly \"contaminated\" by LLM-generated contents themselves.[13]\\nTraining and architecture details[edit]\\nSee also: Fine-tuning (machine learning)\\nReinforcement learning from human feedback (RLHF)[edit]\\nReinforcement learning from human feedback (RLHF) through algorithms, such as proximal policy optimization, is used to further fine-tune a model based on a dataset of human preferences.[14]\\nInstruction tuning[edit]', metadata={'source': 'https://graph.microsoft.com/v1.0/sites/mngenvmcap747548.sharepoint.com,877fe60f-a62d-4ed1-8eda-af543c437d2c,ac47d8a7-cd54-4344-bd9d-26ada5a075c0/drives/b!D-Z_hy2m0U6O2q9UPEN9LKfYR6xUzURDvZ0mraWgdcAot0GWx37EQLiVD3sO7-vm/root:/test.docx:/content', 'read_access_group': '{\"owner\": [\"Contoso Owners\", \"Contoso Owners\"], \"read\": [\"Contoso Visitors\"], \"write\": [\"Contoso Members\"]}', 'security_group': 'group1'}),\n",
       " Document(page_content='Instruction tuning[edit]\\nUsing \"self-instruct\" approaches, LLMs have been able to bootstrap correct responses, replacing any naive responses, starting from human-generated corrections of a few cases. For example, in the instruction \"Write an essay about the main themes represented in Hamlet,\" an initial naive completion might be \\'If you submit the essay after March 17, your grade will be reduced by 10% for each day of delay,\" based on the frequency of this textual sequence in the corpus.[15]\\nMixture of experts[edit]\\nMain article: Mixture of experts\\nThe largest LLM may be too expensive to train and use directly. For such models, mixture of experts (MoE) can be applied, a line of research pursued by Google researchers since 2017 to train models reaching up to 1 billion parameters.[16][17][18]\\nPrompt engineering, attention mechanism, and context window[edit]\\nSee also: Prompt engineering and Attention (machine learning)', metadata={'source': 'https://graph.microsoft.com/v1.0/sites/mngenvmcap747548.sharepoint.com,877fe60f-a62d-4ed1-8eda-af543c437d2c,ac47d8a7-cd54-4344-bd9d-26ada5a075c0/drives/b!D-Z_hy2m0U6O2q9UPEN9LKfYR6xUzURDvZ0mraWgdcAot0GWx37EQLiVD3sO7-vm/root:/test.docx:/content', 'read_access_group': '{\"owner\": [\"Contoso Owners\", \"Contoso Owners\"], \"read\": [\"Contoso Visitors\"], \"write\": [\"Contoso Members\"]}', 'security_group': 'group1'}),\n",
       " Document(page_content='Most results previously achievable only by (costly) fine-tuning, can be achieved through prompt engineering, although limited to the scope of a single conversation (more precisely, limited to the scope of a context window).[19]', metadata={'source': 'https://graph.microsoft.com/v1.0/sites/mngenvmcap747548.sharepoint.com,877fe60f-a62d-4ed1-8eda-af543c437d2c,ac47d8a7-cd54-4344-bd9d-26ada5a075c0/drives/b!D-Z_hy2m0U6O2q9UPEN9LKfYR6xUzURDvZ0mraWgdcAot0GWx37EQLiVD3sO7-vm/root:/test.docx:/content', 'read_access_group': '{\"owner\": [\"Contoso Owners\", \"Contoso Owners\"], \"read\": [\"Contoso Visitors\"], \"write\": [\"Contoso Members\"]}', 'security_group': 'group1'}),\n",
       " Document(page_content='Training cost[edit]\\nAdvances in software and hardware have reduced the cost substantially since 2020, such that in 2023 training of a 12-billion-parameter LLM computational cost is 72,300 A100-GPU-hours, while in 2020 the cost of training a 1.5-billion-parameter LLM (which was two orders of magnitude smaller than the state of the art in 2020) was between $80 thousand and $1.6 million.[24][25][26] Since 2020, large sums were invested in increasingly large models. For example, training of the GPT-2 (i.e. a 1.5-billion-parameters model) in 2019 cost $50,000, while training of the PaLM (i.e. a 540-billion-parameters model) in 2022 cost $8 million.[27]\\nFor Transformer-based LLM, training cost is much higher than inference cost. It costs 6 FLOPs per parameter to train on one token, whereas it costs 1 to 2 FLOPs per parameter to infer on one token.[28]\\nTool use[edit]', metadata={'source': 'https://graph.microsoft.com/v1.0/sites/mngenvmcap747548.sharepoint.com,877fe60f-a62d-4ed1-8eda-af543c437d2c,ac47d8a7-cd54-4344-bd9d-26ada5a075c0/drives/b!D-Z_hy2m0U6O2q9UPEN9LKfYR6xUzURDvZ0mraWgdcAot0GWx37EQLiVD3sO7-vm/root:/test.docx:/content', 'read_access_group': '{\"owner\": [\"Contoso Owners\", \"Contoso Owners\"], \"read\": [\"Contoso Visitors\"], \"write\": [\"Contoso Members\"]}', 'security_group': 'group1'}),\n",
       " Document(page_content=\"Tool use[edit]\\nThere are certain tasks that, in principle, cannot be solved by any LLM, at least not without the use of external tools or additional software. An example of such a task is responding to the user's input '354 * 139 = ', provided that the LLM has not already encountered a continuation of this calculation in its training corpus. In such cases, the LLM needs to resort to running program code that calculates the result, which can then be included in its response. Another example is 'What is the time now? It is ', where a separate program interpreter would need to execute a code to get system time on the computer, so LLM could include it in its reply.[29][30] This basic strategy can be sophisticated with multiple attempts of generated programs, and other sampling strategies.[31]\", metadata={'source': 'https://graph.microsoft.com/v1.0/sites/mngenvmcap747548.sharepoint.com,877fe60f-a62d-4ed1-8eda-af543c437d2c,ac47d8a7-cd54-4344-bd9d-26ada5a075c0/drives/b!D-Z_hy2m0U6O2q9UPEN9LKfYR6xUzURDvZ0mraWgdcAot0GWx37EQLiVD3sO7-vm/root:/test.docx:/content', 'read_access_group': '{\"owner\": [\"Contoso Owners\", \"Contoso Owners\"], \"read\": [\"Contoso Visitors\"], \"write\": [\"Contoso Members\"]}', 'security_group': 'group1'}),\n",
       " Document(page_content='Generally, in order to get an LLM to use tools, one must finetune it for tool-use. If the number of tools is finite, then finetuning may be done just once. If the number of tools can grow arbitrarily, as with online API services, then the LLM can be finetuned to be able to read API documentation and call API correctly.[32][33]\\nA simpler form of tool use is Retrieval Augmented Generation: augment an LLM with document retrieval, sometimes using a vector database. Given a query, a document retriever is called to retrieve the most relevant (usually measured by first encoding the query and the documents into vectors, then finding the documents with vectors closest in Euclidean norm to the query vector). The LLM then generates an output based on both the query and the retrieved documents.[34]\\nAgency[edit]', metadata={'source': 'https://graph.microsoft.com/v1.0/sites/mngenvmcap747548.sharepoint.com,877fe60f-a62d-4ed1-8eda-af543c437d2c,ac47d8a7-cd54-4344-bd9d-26ada5a075c0/drives/b!D-Z_hy2m0U6O2q9UPEN9LKfYR6xUzURDvZ0mraWgdcAot0GWx37EQLiVD3sO7-vm/root:/test.docx:/content', 'read_access_group': '{\"owner\": [\"Contoso Owners\", \"Contoso Owners\"], \"read\": [\"Contoso Visitors\"], \"write\": [\"Contoso Members\"]}', 'security_group': 'group1'}),\n",
       " Document(page_content='Agency[edit]\\nAn LLM is a language model, which is not an agent as it has no goal, but it can be used as a component of an intelligent agent.[35] Researchers have described several methods for such integrations.\\nThe ReAct (\"Reason+Act\") method constructs an agent out of an LLM, using the LLM as a planner. The LLM is prompted to \"think out loud\". Specifically, the language model is prompted with a textual description of the environment, a goal, a list of possible actions, and a record of the actions and observations so far. It generates one or more thoughts before generating an action, which is then executed in the environment.[36] The linguistic description of the environment given to the LLM planner can even be the LaTeX code of a paper describing the environment.[37]', metadata={'source': 'https://graph.microsoft.com/v1.0/sites/mngenvmcap747548.sharepoint.com,877fe60f-a62d-4ed1-8eda-af543c437d2c,ac47d8a7-cd54-4344-bd9d-26ada5a075c0/drives/b!D-Z_hy2m0U6O2q9UPEN9LKfYR6xUzURDvZ0mraWgdcAot0GWx37EQLiVD3sO7-vm/root:/test.docx:/content', 'read_access_group': '{\"owner\": [\"Contoso Owners\", \"Contoso Owners\"], \"read\": [\"Contoso Visitors\"], \"write\": [\"Contoso Members\"]}', 'security_group': 'group1'}),\n",
       " Document(page_content='In the DEPS (\"Describe, Explain, Plan and Select\") method, an LLM is first connected to the visual world via image descriptions, then it is prompted to produce plans for complex tasks and behaviors based on its pretrained knowledge and environmental feedback it receives.[38]\\nThe Reflexion method[39] constructs an agent that learns over multiple episodes. At the end of each episode, the LLM is given the record of the episode, and prompted to think up \"lessons learned\", which would help it perform better at a subsequent episode. These \"lessons learned\" are given to the agent in the subsequent episodes.\\nMonte Carlo tree search can use an LLM as rollout heuristic. When a programmatic world model is not available, an LLM can also be prompted with a description of the environment to act as world model.[40]', metadata={'source': 'https://graph.microsoft.com/v1.0/sites/mngenvmcap747548.sharepoint.com,877fe60f-a62d-4ed1-8eda-af543c437d2c,ac47d8a7-cd54-4344-bd9d-26ada5a075c0/drives/b!D-Z_hy2m0U6O2q9UPEN9LKfYR6xUzURDvZ0mraWgdcAot0GWx37EQLiVD3sO7-vm/root:/test.docx:/content', 'read_access_group': '{\"owner\": [\"Contoso Owners\", \"Contoso Owners\"], \"read\": [\"Contoso Visitors\"], \"write\": [\"Contoso Members\"]}', 'security_group': 'group1'}),\n",
       " Document(page_content='For open-ended exploration, an LLM can be used to score observations for their \"interestingness\", which can be used as a reward signal to guide a normal (non-LLM) reinforcement learning agent.[41] Alternatively, it can propose increasingly difficult tasks for curriculum learning.[42] Instead of outputting individual actions, an LLM planner can also construct \"skills\", or functions for complex action sequences. The skills can be stored and later invoked, allowing increasing levels of abstraction in planning.[42]\\nLLM-powered agents can keep a long-term memory of its previous contexts, and the memory can be retrieved in the same way as Retrieval Augmented Generation. Multiple such agents can interact socially.[43]\\nCompression[edit]', metadata={'source': 'https://graph.microsoft.com/v1.0/sites/mngenvmcap747548.sharepoint.com,877fe60f-a62d-4ed1-8eda-af543c437d2c,ac47d8a7-cd54-4344-bd9d-26ada5a075c0/drives/b!D-Z_hy2m0U6O2q9UPEN9LKfYR6xUzURDvZ0mraWgdcAot0GWx37EQLiVD3sO7-vm/root:/test.docx:/content', 'read_access_group': '{\"owner\": [\"Contoso Owners\", \"Contoso Owners\"], \"read\": [\"Contoso Visitors\"], \"write\": [\"Contoso Members\"]}', 'security_group': 'group1'}),\n",
       " Document(page_content='Compression[edit]\\nTypically, LLM are trained with full- or half-precision floating point numbers (float32 and float16). One float16 has 16 bits, or 2 bytes, and so one billion parameters require 2 gigabytes. The largest models typically have 100 billion parameters, requiring 200 gigabytes to load, which places them outside the range of most consumer electronics.\\nPost-training quantization[44] aims to decrease the space requirement by lowering precision of the parameters of a trained model, while preserving most of its performance.[45][46] The simplest form of quantization simply truncates all numbers to a given number of bits. It can be improved by using a different quantization codebook per layer. Further improvement can be done by applying different precisions to different parameters, with higher precision for particularly important parameters (\"outlier weights\").[47]', metadata={'source': 'https://graph.microsoft.com/v1.0/sites/mngenvmcap747548.sharepoint.com,877fe60f-a62d-4ed1-8eda-af543c437d2c,ac47d8a7-cd54-4344-bd9d-26ada5a075c0/drives/b!D-Z_hy2m0U6O2q9UPEN9LKfYR6xUzURDvZ0mraWgdcAot0GWx37EQLiVD3sO7-vm/root:/test.docx:/content', 'read_access_group': '{\"owner\": [\"Contoso Owners\", \"Contoso Owners\"], \"read\": [\"Contoso Visitors\"], \"write\": [\"Contoso Members\"]}', 'security_group': 'group1'}),\n",
       " Document(page_content='While quantized models are typically frozen, and only pre-quantized models are finetuned, quantized models can still be finetuned.[48]\\nMultimodality[edit]\\nMultimodality means \"having several modalities\", and a \"modality\" means a type of input, such as video, image, audio, text, proprioception, etc.[49] There have been many AI models trained specifically to ingest one modality and output another modality, such as AlexNet for image to label,[50] visual question answering for image-text to text,[51] and speech recognition for speech to text. A review article of multimodal LLM is.[52]', metadata={'source': 'https://graph.microsoft.com/v1.0/sites/mngenvmcap747548.sharepoint.com,877fe60f-a62d-4ed1-8eda-af543c437d2c,ac47d8a7-cd54-4344-bd9d-26ada5a075c0/drives/b!D-Z_hy2m0U6O2q9UPEN9LKfYR6xUzURDvZ0mraWgdcAot0GWx37EQLiVD3sO7-vm/root:/test.docx:/content', 'read_access_group': '{\"owner\": [\"Contoso Owners\", \"Contoso Owners\"], \"read\": [\"Contoso Visitors\"], \"write\": [\"Contoso Members\"]}', 'security_group': 'group1'}),\n",
       " Document(page_content='A common method to create multimodal models out of an LLM is to \"tokenize\" the output of a trained encoder. Concretely, one can construct a LLM that can understand images as follows: take a trained LLM, and take a trained image encoder �. Make a small multilayered perceptron �, so that for any image �, the post-processed vector �(�(�)) has the same dimensions as an encoded token. That is an \"image token\". Then, one can interleave text tokens and image tokens. The compound model is then finetuned on an image-text dataset. This basic construction can be applied with more sophistication to improve the model. The image encoder may be frozen to improve stability.[53]', metadata={'source': 'https://graph.microsoft.com/v1.0/sites/mngenvmcap747548.sharepoint.com,877fe60f-a62d-4ed1-8eda-af543c437d2c,ac47d8a7-cd54-4344-bd9d-26ada5a075c0/drives/b!D-Z_hy2m0U6O2q9UPEN9LKfYR6xUzURDvZ0mraWgdcAot0GWx37EQLiVD3sO7-vm/root:/test.docx:/content', 'read_access_group': '{\"owner\": [\"Contoso Owners\", \"Contoso Owners\"], \"read\": [\"Contoso Visitors\"], \"write\": [\"Contoso Members\"]}', 'security_group': 'group1'}),\n",
       " Document(page_content=\"Flamingo demonstrated the effectiveness of the tokenization method, finetuning a pair of pretrained language model and image encoder to perform better on visual question answering than models trained from scratch.[54] Google PaLM model was finetuned into a multimodal model PaLM-E using the tokenization method, and applied to robotic control.[55] LLaMA models have also been turned multimodal using the tokenization method, to allow image inputs,[56] and video inputs.[57]\\nGPT-4 can use both text and image as inputs[58] (although the vision component wasn't released to the public until GPT-4V[59]), while Google Gemini is expected to be multimodal.[60]\\nProperties[edit]\\nScaling laws and emergent abilities[edit]\\nMain article: Neural scaling law\\nThe following four hyper-parameters characterize a LLM:\\ncost of (pre-)training (�),\\nsize of the artificial neural network itself, such as number of parameters � (i.e. amount of neurons in its layers, amount of weights between them and biases),\", metadata={'source': 'https://graph.microsoft.com/v1.0/sites/mngenvmcap747548.sharepoint.com,877fe60f-a62d-4ed1-8eda-af543c437d2c,ac47d8a7-cd54-4344-bd9d-26ada5a075c0/drives/b!D-Z_hy2m0U6O2q9UPEN9LKfYR6xUzURDvZ0mraWgdcAot0GWx37EQLiVD3sO7-vm/root:/test.docx:/content', 'read_access_group': '{\"owner\": [\"Contoso Owners\", \"Contoso Owners\"], \"read\": [\"Contoso Visitors\"], \"write\": [\"Contoso Members\"]}', 'security_group': 'group1'}),\n",
       " Document(page_content='size of its (pre-)training dataset (i.e. number of tokens in corpus, �),\\nperformance after (pre-)training.\\nThey are related by simple statistical laws, called \"scaling laws\". One particular scaling law (\"Chinchilla scaling\") for LLM autoregressively trained for one epoch, with a log-log learning rate schedule, states that:[61]\\n{�=�0���=���+���+�0', metadata={'source': 'https://graph.microsoft.com/v1.0/sites/mngenvmcap747548.sharepoint.com,877fe60f-a62d-4ed1-8eda-af543c437d2c,ac47d8a7-cd54-4344-bd9d-26ada5a075c0/drives/b!D-Z_hy2m0U6O2q9UPEN9LKfYR6xUzURDvZ0mraWgdcAot0GWx37EQLiVD3sO7-vm/root:/test.docx:/content', 'read_access_group': '{\"owner\": [\"Contoso Owners\", \"Contoso Owners\"], \"read\": [\"Contoso Visitors\"], \"write\": [\"Contoso Members\"]}', 'security_group': 'group1'}),\n",
       " Document(page_content='where the variables are\\n� is the cost of training the model, in FLOPs.\\n� is the number of parameters in the model.\\n� is the number of tokens in the training set.\\n� is the average negative log-likelihood loss per token (nats/token), achieved by the trained LLM on the test dataset.\\nand the statistical hyper-parameters are\\n�0=6, meaning that it costs 6 FLOPs per parameter to train on one token. Note that training cost is much higher than inference cost, where it costs 1 to 2 FLOPs per parameter to infer on one token.[28]\\n�=0.34,�=0.28,�=406.4,�=410.7,�0=1.69\\nAt point(s) referred to as breaks,[62] the lines change their slopes, appearing on a log-log plot as a series of linear segments connected by arcs.', metadata={'source': 'https://graph.microsoft.com/v1.0/sites/mngenvmcap747548.sharepoint.com,877fe60f-a62d-4ed1-8eda-af543c437d2c,ac47d8a7-cd54-4344-bd9d-26ada5a075c0/drives/b!D-Z_hy2m0U6O2q9UPEN9LKfYR6xUzURDvZ0mraWgdcAot0GWx37EQLiVD3sO7-vm/root:/test.docx:/content', 'read_access_group': '{\"owner\": [\"Contoso Owners\", \"Contoso Owners\"], \"read\": [\"Contoso Visitors\"], \"write\": [\"Contoso Members\"]}', 'security_group': 'group1'}),\n",
       " Document(page_content='When one subtracts out from the y-axis the best performance that can be achieved even with infinite scaling of the x-axis quantity, large models\\' performance, measured on various tasks, seems to be a linear extrapolation of other (smaller-sized and medium-sized) models\\' performance on a log-log plot. However, sometimes the line\\'s slope transitions from one slope to another at point(s) referred to as break(s)[62] in downstream scaling laws, appearing as a series of linear segments connected by arcs; it seems that larger models acquire \"emergent abilities\" at this point(s).[19][63] These abilities are discovered rather than programmed-in or designed, in some cases only after the LLM has been publicly deployed.[3]\\nThe most intriguing among emergent abilities is in-context learning from example demonstrations.[64] In-context learning is involved in tasks, such as:', metadata={'source': 'https://graph.microsoft.com/v1.0/sites/mngenvmcap747548.sharepoint.com,877fe60f-a62d-4ed1-8eda-af543c437d2c,ac47d8a7-cd54-4344-bd9d-26ada5a075c0/drives/b!D-Z_hy2m0U6O2q9UPEN9LKfYR6xUzURDvZ0mraWgdcAot0GWx37EQLiVD3sO7-vm/root:/test.docx:/content', 'read_access_group': '{\"owner\": [\"Contoso Owners\", \"Contoso Owners\"], \"read\": [\"Contoso Visitors\"], \"write\": [\"Contoso Members\"]}', 'security_group': 'group1'}),\n",
       " Document(page_content='reported arithmetics, decoding the International Phonetic Alphabet, unscrambling a word\\'s letters, disambiguate word in context,[19][65][66] converting spatial words, cardinal directions (for example, replying \"northeast\" upon [0, 0, 1; 0, 0, 0; 0, 0, 0]), color terms represented in text.[67]\\nchain-of-thought prompting: Model outputs are improved by chain-of-thought prompting only when model size exceeds 62B. Smaller models perform better when prompted to answer immediately, without chain of thought.[68]\\nidentifying offensive content in paragraphs of Hinglish (a combination of Hindi and English), and generating a similar English equivalent of Kiswahili proverbs.[69]', metadata={'source': 'https://graph.microsoft.com/v1.0/sites/mngenvmcap747548.sharepoint.com,877fe60f-a62d-4ed1-8eda-af543c437d2c,ac47d8a7-cd54-4344-bd9d-26ada5a075c0/drives/b!D-Z_hy2m0U6O2q9UPEN9LKfYR6xUzURDvZ0mraWgdcAot0GWx37EQLiVD3sO7-vm/root:/test.docx:/content', 'read_access_group': '{\"owner\": [\"Contoso Owners\", \"Contoso Owners\"], \"read\": [\"Contoso Visitors\"], \"write\": [\"Contoso Members\"]}', 'security_group': 'group1'}),\n",
       " Document(page_content='Schaeffer et. al. argue that the emergent abilities are not unpredictably acquired, but predictably acquired according to a smooth scaling law. The authors considered a toy statistical model of an LLM solving multiple-choice questions, and showed that this statistical model, modified to account for other types of tasks, applies to these tasks as well.[70]\\nLet � be the number of parameter count, and � be the performance of the model.\\nWhen �=average ��(correct token), then (log\\u2061�,�) is an exponential curve (before it hits the plateau at one), which looks like emergence.\\nWhen �=average log\\u2061(��(correct token)), then the (log\\u2061�,�) plot is a straight line (before it hits the plateau at zero), which does not look like emergence.\\nWhen �=average ��(the most likely token is correct), then (log\\u2061�,�) is a step-function, which looks like emergence.\\nInterpretation[edit]', metadata={'source': 'https://graph.microsoft.com/v1.0/sites/mngenvmcap747548.sharepoint.com,877fe60f-a62d-4ed1-8eda-af543c437d2c,ac47d8a7-cd54-4344-bd9d-26ada5a075c0/drives/b!D-Z_hy2m0U6O2q9UPEN9LKfYR6xUzURDvZ0mraWgdcAot0GWx37EQLiVD3sO7-vm/root:/test.docx:/content', 'read_access_group': '{\"owner\": [\"Contoso Owners\", \"Contoso Owners\"], \"read\": [\"Contoso Visitors\"], \"write\": [\"Contoso Members\"]}', 'security_group': 'group1'}),\n",
       " Document(page_content='Interpretation[edit]\\nLarge language models by themselves are \"black boxes\", and it is not clear how they can perform linguistic tasks. There are several methods for understanding how LLM work.\\nMechanistic interpretability aims to reverse-engineer LLM by discovering symbolic algorithms that approximate the inference performed by LLM. One example is Othello-GPT, where a small Transformer is trained to predict legal Othello moves. It is found that there is a linear representation of Othello board, and modifying the representation changes the predicted legal Othello moves in the correct way.[71][72] In another example, a small Transformer is trained on Karel programs. Similar to the Othello-GPT example, there is a linear representation of Karel program semantics, and modifying the representation changes output in the correct way. The model also generates correct programs that are on average shorter than those in the training set.[73]', metadata={'source': 'https://graph.microsoft.com/v1.0/sites/mngenvmcap747548.sharepoint.com,877fe60f-a62d-4ed1-8eda-af543c437d2c,ac47d8a7-cd54-4344-bd9d-26ada5a075c0/drives/b!D-Z_hy2m0U6O2q9UPEN9LKfYR6xUzURDvZ0mraWgdcAot0GWx37EQLiVD3sO7-vm/root:/test.docx:/content', 'read_access_group': '{\"owner\": [\"Contoso Owners\", \"Contoso Owners\"], \"read\": [\"Contoso Visitors\"], \"write\": [\"Contoso Members\"]}', 'security_group': 'group1'}),\n",
       " Document(page_content='In another example, the authors trained small transformers on modular arithmetic addition. The resulting models were reverse-engineered, and it turned out they used discrete Fourier transform.[74]\\nUnderstanding and intelligence[edit]', metadata={'source': 'https://graph.microsoft.com/v1.0/sites/mngenvmcap747548.sharepoint.com,877fe60f-a62d-4ed1-8eda-af543c437d2c,ac47d8a7-cd54-4344-bd9d-26ada5a075c0/drives/b!D-Z_hy2m0U6O2q9UPEN9LKfYR6xUzURDvZ0mraWgdcAot0GWx37EQLiVD3sO7-vm/root:/test.docx:/content', 'read_access_group': '{\"owner\": [\"Contoso Owners\", \"Contoso Owners\"], \"read\": [\"Contoso Visitors\"], \"write\": [\"Contoso Members\"]}', 'security_group': 'group1'}),\n",
       " Document(page_content='NLP researchers were evenly split when asked, in a 2022 survey, whether (untuned) LLMs \"could (ever) understand natural language in some nontrivial sense\".[75] Proponents of \"LLM understanding\" believe that some LLM abilities, such as mathematical reasoning, imply an ability to \"understand\" certain concepts. A Microsoft team argued in 2023 that GPT-4 \"can solve novel and difficult tasks that span mathematics, coding, vision, medicine, law, psychology and more\" and that GPT-4 \"could reasonably be viewed as an early (yet still incomplete) version of an artificial general intelligence system\": \"Can one reasonably say that a system that passes exams for software engineering candidates is not really intelligent?\"[76][77] Some researchers characterize LLMs as \"alien intelligence\".[78][79] For example, Conjecture CEO Connor Leahy considers untuned LLMs to be like inscrutable alien \"Shoggoths\", and believes that RLHF tuning creates a \"smiling facade\" obscuring the inner workings of the LLM:', metadata={'source': 'https://graph.microsoft.com/v1.0/sites/mngenvmcap747548.sharepoint.com,877fe60f-a62d-4ed1-8eda-af543c437d2c,ac47d8a7-cd54-4344-bd9d-26ada5a075c0/drives/b!D-Z_hy2m0U6O2q9UPEN9LKfYR6xUzURDvZ0mraWgdcAot0GWx37EQLiVD3sO7-vm/root:/test.docx:/content', 'read_access_group': '{\"owner\": [\"Contoso Owners\", \"Contoso Owners\"], \"read\": [\"Contoso Visitors\"], \"write\": [\"Contoso Members\"]}', 'security_group': 'group1'}),\n",
       " Document(page_content='facade\" obscuring the inner workings of the LLM: \"If you don\\'t push it too far, the smiley face stays on. But then you give it [an unexpected] prompt, and suddenly you see this massive underbelly of insanity, of weird thought processes and clearly non-human understanding.\"[80][81]', metadata={'source': 'https://graph.microsoft.com/v1.0/sites/mngenvmcap747548.sharepoint.com,877fe60f-a62d-4ed1-8eda-af543c437d2c,ac47d8a7-cd54-4344-bd9d-26ada5a075c0/drives/b!D-Z_hy2m0U6O2q9UPEN9LKfYR6xUzURDvZ0mraWgdcAot0GWx37EQLiVD3sO7-vm/root:/test.docx:/content', 'read_access_group': '{\"owner\": [\"Contoso Owners\", \"Contoso Owners\"], \"read\": [\"Contoso Visitors\"], \"write\": [\"Contoso Members\"]}', 'security_group': 'group1'}),\n",
       " Document(page_content='In contrast, some proponents of the \"LLMs lack understanding\" school believe that existing LLMs are \"simply remixing and recombining existing writing\",[79] or point to the deficits existing LLMs continue to have in prediction skills, reasoning skills, agency, and explainability.[75] For example, GPT-4 has natural deficits in planning and in real-time learning.[77] Generative LLMs have been observed to confidently assert claims of fact which do not seem to be justified by their training data, a phenomenon which has been termed \"hallucination\".[82] Specifically, hallucinations in the context of LLMs correspond to the generation of text or responses that seem syntactically sound, fluent, and natural but are factually incorrect, nonsensical, or unfaithful to the provided source input.[83] Neuroscientist Terrence Sejnowski has argued that \"The diverging opinions of experts on the intelligence of LLMs suggests that our old ideas based on natural intelligence are inadequate\".[75]', metadata={'source': 'https://graph.microsoft.com/v1.0/sites/mngenvmcap747548.sharepoint.com,877fe60f-a62d-4ed1-8eda-af543c437d2c,ac47d8a7-cd54-4344-bd9d-26ada5a075c0/drives/b!D-Z_hy2m0U6O2q9UPEN9LKfYR6xUzURDvZ0mraWgdcAot0GWx37EQLiVD3sO7-vm/root:/test.docx:/content', 'read_access_group': '{\"owner\": [\"Contoso Owners\", \"Contoso Owners\"], \"read\": [\"Contoso Visitors\"], \"write\": [\"Contoso Members\"]}', 'security_group': 'group1'}),\n",
       " Document(page_content=\"The matter of LLM's exhibiting intelligence or understanding [75] has foundations in the study of language as a model of Cognition in the field of Cognitive linguistics. The American Linguist George Lakoff presented Neural Theory of Language (NTL) as a computational basis for using language as a model of learning tasks and understanding.[84] In his 2014 book titled The Language Myth: Why Language Is Not An Instinct, British cognitive linguist and digital communication technologist Vyvyan Evans maps out the role of probabilistic context-free grammar (PCFG) in enabling NLP to model cognitive patterns.\\nEvaluation[edit]\\nPerplexity[edit]\", metadata={'source': 'https://graph.microsoft.com/v1.0/sites/mngenvmcap747548.sharepoint.com,877fe60f-a62d-4ed1-8eda-af543c437d2c,ac47d8a7-cd54-4344-bd9d-26ada5a075c0/drives/b!D-Z_hy2m0U6O2q9UPEN9LKfYR6xUzURDvZ0mraWgdcAot0GWx37EQLiVD3sO7-vm/root:/test.docx:/content', 'read_access_group': '{\"owner\": [\"Contoso Owners\", \"Contoso Owners\"], \"read\": [\"Contoso Visitors\"], \"write\": [\"Contoso Members\"]}', 'security_group': 'group1'}),\n",
       " Document(page_content=\"Evaluation[edit]\\nPerplexity[edit]\\nThe most commonly used measure of a language model's performance is its perplexity on a given text corpus. Perplexity is a measure of how well a model is able to predict the contents of a dataset; the higher the likelihood the model assigns to the dataset, the lower the perplexity. Mathematically, perplexity is defined as the exponential of the average negative log likelihood per token:\\nlog\\u2061(Perplexity)=−1�∑�=1�log\\u2061(��(token�|context for token�))\", metadata={'source': 'https://graph.microsoft.com/v1.0/sites/mngenvmcap747548.sharepoint.com,877fe60f-a62d-4ed1-8eda-af543c437d2c,ac47d8a7-cd54-4344-bd9d-26ada5a075c0/drives/b!D-Z_hy2m0U6O2q9UPEN9LKfYR6xUzURDvZ0mraWgdcAot0GWx37EQLiVD3sO7-vm/root:/test.docx:/content', 'read_access_group': '{\"owner\": [\"Contoso Owners\", \"Contoso Owners\"], \"read\": [\"Contoso Visitors\"], \"write\": [\"Contoso Members\"]}', 'security_group': 'group1'}),\n",
       " Document(page_content='here � is the number of tokens in the text corpus, and \"context for token �\" depends on the specific type of LLM used. If the LLM is autoregressive, then \"context for token �\" is the segment of text appearing before token �. If the LLM is masked, then \"context for token �\" is the segment of text surrounding token �.\\nBecause language models may overfit to their training data, models are usually evaluated by their perplexity on a test set of unseen data.[12] This presents particular challenges for the evaluation of large language models. As they are trained on increasingly large corpora of text largely scraped from the web, it becomes increasingly likely that models\\' training data inadvertently includes portions of any given test set.[4]\\nTask-specific datasets and benchmarks[edit]', metadata={'source': 'https://graph.microsoft.com/v1.0/sites/mngenvmcap747548.sharepoint.com,877fe60f-a62d-4ed1-8eda-af543c437d2c,ac47d8a7-cd54-4344-bd9d-26ada5a075c0/drives/b!D-Z_hy2m0U6O2q9UPEN9LKfYR6xUzURDvZ0mraWgdcAot0GWx37EQLiVD3sO7-vm/root:/test.docx:/content', 'read_access_group': '{\"owner\": [\"Contoso Owners\", \"Contoso Owners\"], \"read\": [\"Contoso Visitors\"], \"write\": [\"Contoso Members\"]}', 'security_group': 'group1'}),\n",
       " Document(page_content='Task-specific datasets and benchmarks[edit]\\nA large number of testing datasets and benchmarks have also been developed to evaluate the capabilities of language models on more specific downstream tasks. Tests may be designed to evaluate a variety of capabilities, including general knowledge, commonsense reasoning, and mathematical problem-solving.', metadata={'source': 'https://graph.microsoft.com/v1.0/sites/mngenvmcap747548.sharepoint.com,877fe60f-a62d-4ed1-8eda-af543c437d2c,ac47d8a7-cd54-4344-bd9d-26ada5a075c0/drives/b!D-Z_hy2m0U6O2q9UPEN9LKfYR6xUzURDvZ0mraWgdcAot0GWx37EQLiVD3sO7-vm/root:/test.docx:/content', 'read_access_group': '{\"owner\": [\"Contoso Owners\", \"Contoso Owners\"], \"read\": [\"Contoso Visitors\"], \"write\": [\"Contoso Members\"]}', 'security_group': 'group1'}),\n",
       " Document(page_content='One broad category of evaluation dataset is question answering datasets, consisting of pairs of questions and correct answers, for example, (\"Have the San Jose Sharks won the Stanley Cup?\", \"No\").[85] A question answering task is considered \"open book\" if the model\\'s prompt includes text from which the expected answer can be derived (for example, the previous question could be adjoined with some text which includes the sentence \"The Sharks have advanced to the Stanley Cup finals once, losing to the Pittsburgh Penguins in 2016.\"[85]). Otherwise, the task is considered \"closed book\", and the model must draw on knowledge retained during training.[86] Some examples of commonly used question answering datasets include TruthfulQA, Web Questions, TriviaQA, and SQuAD.[86]', metadata={'source': 'https://graph.microsoft.com/v1.0/sites/mngenvmcap747548.sharepoint.com,877fe60f-a62d-4ed1-8eda-af543c437d2c,ac47d8a7-cd54-4344-bd9d-26ada5a075c0/drives/b!D-Z_hy2m0U6O2q9UPEN9LKfYR6xUzURDvZ0mraWgdcAot0GWx37EQLiVD3sO7-vm/root:/test.docx:/content', 'read_access_group': '{\"owner\": [\"Contoso Owners\", \"Contoso Owners\"], \"read\": [\"Contoso Visitors\"], \"write\": [\"Contoso Members\"]}', 'security_group': 'group1'}),\n",
       " Document(page_content='Evaluation datasets may also take the form of text completion, having the model select the most likely word or sentence to complete a prompt, for example: \"Alice was friends with Bob. Alice went to visit her friend, ____\".[4]\\nSome composite benchmarks have also been developed which combine a diversity of different evaluation datasets and tasks. Examples include GLUE, SuperGLUE, MMLU, BIG-bench, and HELM.[87][86]\\nIt was previously standard to report results on a heldout portion of an evaluation dataset after doing supervised fine-tuning on the remainder. It is now more common to evaluate a pre-trained model directly through prompting techniques, though researchers vary in the details of how they formulate prompts for particular tasks, particularly with respect to how many examples of solved tasks are adjoined to the prompt (i.e. the value of n in n-shot prompting).\\nAdversarially constructed evaluations[edit]', metadata={'source': 'https://graph.microsoft.com/v1.0/sites/mngenvmcap747548.sharepoint.com,877fe60f-a62d-4ed1-8eda-af543c437d2c,ac47d8a7-cd54-4344-bd9d-26ada5a075c0/drives/b!D-Z_hy2m0U6O2q9UPEN9LKfYR6xUzURDvZ0mraWgdcAot0GWx37EQLiVD3sO7-vm/root:/test.docx:/content', 'read_access_group': '{\"owner\": [\"Contoso Owners\", \"Contoso Owners\"], \"read\": [\"Contoso Visitors\"], \"write\": [\"Contoso Members\"]}', 'security_group': 'group1'}),\n",
       " Document(page_content='Adversarially constructed evaluations[edit]\\nBecause of the rapid pace of improvement of large language models, evaluation benchmarks have suffered from short lifespans, with state of the art models quickly \"saturating\" existing benchmarks, exceeding the performance of human annotators, leading to efforts to replace or augment the benchmark with more challenging tasks.[88] In addition, there are cases of \"shortcut learning\" wherein AIs sometimes \"cheat\" on multiple-choice tests by using statistical correlations in superficial test question wording in order to guess the correct responses, without necessarily understanding the actual question being asked.[75]', metadata={'source': 'https://graph.microsoft.com/v1.0/sites/mngenvmcap747548.sharepoint.com,877fe60f-a62d-4ed1-8eda-af543c437d2c,ac47d8a7-cd54-4344-bd9d-26ada5a075c0/drives/b!D-Z_hy2m0U6O2q9UPEN9LKfYR6xUzURDvZ0mraWgdcAot0GWx37EQLiVD3sO7-vm/root:/test.docx:/content', 'read_access_group': '{\"owner\": [\"Contoso Owners\", \"Contoso Owners\"], \"read\": [\"Contoso Visitors\"], \"write\": [\"Contoso Members\"]}', 'security_group': 'group1'}),\n",
       " Document(page_content='Some datasets have been constructed adversarially, focusing on particular problems on which extant language models seem to have unusually poor performance compared to humans. One example is the TruthfulQA dataset, a question answering dataset consisting of 817 questions which language models are susceptible to answering incorrectly by mimicking falsehoods to which they were repeatedly exposed during training. For example, an LLM may answer \"No\" to the question \"Can you teach an old dog new tricks?\" because of its exposure to the English idiom you can\\'t teach an old dog new tricks, even though this is not literally true.[89]', metadata={'source': 'https://graph.microsoft.com/v1.0/sites/mngenvmcap747548.sharepoint.com,877fe60f-a62d-4ed1-8eda-af543c437d2c,ac47d8a7-cd54-4344-bd9d-26ada5a075c0/drives/b!D-Z_hy2m0U6O2q9UPEN9LKfYR6xUzURDvZ0mraWgdcAot0GWx37EQLiVD3sO7-vm/root:/test.docx:/content', 'read_access_group': '{\"owner\": [\"Contoso Owners\", \"Contoso Owners\"], \"read\": [\"Contoso Visitors\"], \"write\": [\"Contoso Members\"]}', 'security_group': 'group1'}),\n",
       " Document(page_content='Another example of an adversarial evaluation dataset is Swag and its successor, HellaSwag, collections of problems in which one of multiple options must be selected to complete a text passage. The incorrect completions were generated by sampling from a language model and filtering with a set of classifiers. The resulting problems are trivial for humans but at the time the datasets were created state of the art language models had poor accuracy on them. For example:\\nWe see a fitness center sign. We then see a man talking to the camera and sitting and laying on a exercise ball. The man...\\na) demonstrates how to increase efficient exercise work by running up and down balls.\\nb) moves all his arms and legs and builds up a lot of muscle.\\nc) then plays the ball and we see a graphics and hedge trimming demonstration.\\nd) performs sit ups while on the ball and talking.[90]\\nBERT selects b) as the most likely completion, though the correct answer is d).[90]\\nWider impact[edit]', metadata={'source': 'https://graph.microsoft.com/v1.0/sites/mngenvmcap747548.sharepoint.com,877fe60f-a62d-4ed1-8eda-af543c437d2c,ac47d8a7-cd54-4344-bd9d-26ada5a075c0/drives/b!D-Z_hy2m0U6O2q9UPEN9LKfYR6xUzURDvZ0mraWgdcAot0GWx37EQLiVD3sO7-vm/root:/test.docx:/content', 'read_access_group': '{\"owner\": [\"Contoso Owners\", \"Contoso Owners\"], \"read\": [\"Contoso Visitors\"], \"write\": [\"Contoso Members\"]}', 'security_group': 'group1'}),\n",
       " Document(page_content='Wider impact[edit]\\nIn 2023, Nature Biomedical Engineering wrote that \"it is no longer possible to accurately distinguish\" human-written text from text created by large language models, and that \"It is all but certain that general-purpose large language models will rapidly proliferate... It is a rather safe bet that they will change many industries over time.\"[91] Goldman Sachs suggested in 2023 that generative language AI could increase global GDP by 7% in the next ten years, and could expose to automation 300 million jobs globally.[92][93] Some commenters expressed concern over accidental or deliberate creation of misinformation, or other forms of misuse.[94] For example, the availability of large language models could reduce the skill-level required to commit bioterrorism; biosecurity researcher Kevin Esvelt has suggested that LLM creators should exclude from their training data papers on creating or enhancing pathogens.[95]', metadata={'source': 'https://graph.microsoft.com/v1.0/sites/mngenvmcap747548.sharepoint.com,877fe60f-a62d-4ed1-8eda-af543c437d2c,ac47d8a7-cd54-4344-bd9d-26ada5a075c0/drives/b!D-Z_hy2m0U6O2q9UPEN9LKfYR6xUzURDvZ0mraWgdcAot0GWx37EQLiVD3sO7-vm/root:/test.docx:/content', 'read_access_group': '{\"owner\": [\"Contoso Owners\", \"Contoso Owners\"], \"read\": [\"Contoso Visitors\"], \"write\": [\"Contoso Members\"]}', 'security_group': 'group1'})]"
      ]
     },
     "execution_count": 13,
     "metadata": {},
     "output_type": "execute_result"
    }
   ],
   "source": [
    "chunks"
   ]
  },
  {
   "cell_type": "code",
   "execution_count": 14,
   "metadata": {},
   "outputs": [],
   "source": [
    "openai.api_type = \"azure\"\n",
    "openai.api_key = os.getenv(\"OPENAI_API_KEY\")\n",
    "openai.api_base = os.getenv(\"OPENAI_ENDPOINT\")\n",
    "openai.api_version = os.getenv(\"AZURE_OPENAI_API_VERSION\") \n",
    "deployment=\"foundational-ada\"\n",
    "model_name=\"text-embedding-ada-002\"\n",
    "embeddings = OpenAIEmbeddings(\n",
    "                deployment=deployment,\n",
    "                model=model_name,\n",
    "                openai_api_base=os.getenv(\"OPENAI_ENDPOINT\"),\n",
    "                openai_api_type=\"azure\",\n",
    "                show_progress_bar=True,\n",
    "                chunk_size=1000,\n",
    "            )"
   ]
  },
  {
   "cell_type": "code",
   "execution_count": 15,
   "metadata": {},
   "outputs": [],
   "source": [
    "from langchain.vectorstores.azuresearch import AzureSearch"
   ]
  },
  {
   "cell_type": "code",
   "execution_count": 16,
   "metadata": {},
   "outputs": [],
   "source": [
    "from azure.search.documents.indexes.models import (\n",
    "    ScoringProfile,\n",
    "    SearchableField,\n",
    "    SearchField,\n",
    "    SearchFieldDataType,\n",
    "    SimpleField,\n",
    "    TextWeights,\n",
    "    SemanticConfiguration,\n",
    "    SemanticField,\n",
    "    SemanticSettings,\n",
    "    PrioritizedFields)\n",
    "from azure.search.documents.models import Vector"
   ]
  },
  {
   "cell_type": "code",
   "execution_count": 17,
   "metadata": {},
   "outputs": [],
   "source": [
    "embedding_function = embeddings.embed_query"
   ]
  },
  {
   "cell_type": "code",
   "execution_count": 18,
   "metadata": {},
   "outputs": [
    {
     "name": "stderr",
     "output_type": "stream",
     "text": [
      "c:\\Users\\pablosal\\AppData\\Local\\anaconda3\\envs\\sharepoint-indexing\\lib\\site-packages\\tqdm\\auto.py:21: TqdmWarning: IProgress not found. Please update jupyter and ipywidgets. See https://ipywidgets.readthedocs.io/en/stable/user_install.html\n",
      "  from .autonotebook import tqdm as notebook_tqdm\n",
      "100%|██████████| 1/1 [00:01<00:00,  1.06s/it]\n",
      "100%|██████████| 1/1 [00:00<00:00, 12.43it/s]\n"
     ]
    }
   ],
   "source": [
    "fields = [\n",
    "    SimpleField(\n",
    "        name=\"id\",\n",
    "        type=SearchFieldDataType.String,\n",
    "        key=True,\n",
    "        filterable=True,\n",
    "    ),\n",
    "    SearchableField(\n",
    "        name=\"content\",\n",
    "        type=SearchFieldDataType.String,\n",
    "        searchable=True,\n",
    "    ),\n",
    "    SearchField(\n",
    "        name=\"content_vector\",\n",
    "        type=SearchFieldDataType.Collection(SearchFieldDataType.Single),\n",
    "        searchable=True,\n",
    "        vector_search_dimensions=len(embedding_function(\"Text\")),\n",
    "        vector_search_configuration=\"default\",\n",
    "    ),\n",
    "    SearchableField(\n",
    "        name=\"metadata\",\n",
    "        type=SearchFieldDataType.String,\n",
    "        searchable=True,\n",
    "    ),\n",
    "    # Additional field for filtering on document source\n",
    "    SimpleField(\n",
    "        name=\"source\",\n",
    "        type=SearchFieldDataType.String,\n",
    "        filterable=True,\n",
    "    ),\n",
    "    SimpleField(\n",
    "        name=\"security_group\",\n",
    "        type=SearchFieldDataType.String,\n",
    "        filterable=True,\n",
    "    ),\n",
    "]\n",
    "\n",
    "index_name: str = \"langchain-vector-demo-custom\"\n",
    "\n",
    "vector_store: AzureSearch = AzureSearch(\n",
    "    azure_search_endpoint= os.getenv(\"AZURE_SEARCH_SERVICE_ENDPOINT\"),\n",
    "    azure_search_key= os.getenv(\"AZURE_SEARCH_ADMIN_KEY\"),\n",
    "    index_name=index_name,\n",
    "    embedding_function=embedding_function,\n",
    "    fields=fields,\n",
    "    semantic_settings=SemanticSettings(\n",
    "        default_configuration=\"config\",\n",
    "        configurations=[\n",
    "            SemanticConfiguration(\n",
    "                name=\"config\",\n",
    "                prioritized_fields=PrioritizedFields(\n",
    "                    title_field=SemanticField(field_name=\"content\"),\n",
    "                    prioritized_content_fields=[\n",
    "                        SemanticField(field_name=\"content\")\n",
    "                    ],\n",
    "                    prioritized_keywords_fields=[\n",
    "                        SemanticField(field_name=\"metadata\")\n",
    "                    ],\n",
    "                ),\n",
    "            )\n",
    "        ],\n",
    "    ),\n",
    ")\n"
   ]
  },
  {
   "cell_type": "code",
   "execution_count": 19,
   "metadata": {},
   "outputs": [
    {
     "name": "stderr",
     "output_type": "stream",
     "text": [
      "100%|██████████| 1/1 [00:00<00:00, 11.21it/s]\n",
      "100%|██████████| 1/1 [00:00<00:00, 12.29it/s]\n",
      "100%|██████████| 1/1 [00:00<00:00, 11.44it/s]\n",
      "100%|██████████| 1/1 [00:00<00:00, 10.82it/s]\n",
      "100%|██████████| 1/1 [00:00<00:00, 10.86it/s]\n",
      "100%|██████████| 1/1 [00:00<00:00, 12.03it/s]\n",
      "100%|██████████| 1/1 [00:00<00:00, 12.46it/s]\n",
      "100%|██████████| 1/1 [00:00<00:00, 11.35it/s]\n",
      "100%|██████████| 1/1 [00:00<00:00, 12.02it/s]\n",
      "100%|██████████| 1/1 [00:00<00:00, 11.88it/s]\n",
      "100%|██████████| 1/1 [00:00<00:00, 11.77it/s]\n",
      "100%|██████████| 1/1 [00:00<00:00,  4.43it/s]\n",
      "100%|██████████| 1/1 [00:00<00:00, 10.89it/s]\n",
      "100%|██████████| 1/1 [00:00<00:00, 10.90it/s]\n",
      "100%|██████████| 1/1 [00:00<00:00, 11.48it/s]\n",
      "100%|██████████| 1/1 [00:00<00:00, 10.67it/s]\n",
      "100%|██████████| 1/1 [00:00<00:00, 11.11it/s]\n",
      "100%|██████████| 1/1 [00:00<00:00, 12.18it/s]\n",
      "100%|██████████| 1/1 [00:00<00:00, 11.05it/s]\n",
      "100%|██████████| 1/1 [00:00<00:00, 12.80it/s]\n",
      "100%|██████████| 1/1 [00:00<00:00, 10.39it/s]\n",
      "100%|██████████| 1/1 [00:00<00:00, 11.43it/s]\n",
      "100%|██████████| 1/1 [00:00<00:00, 11.22it/s]\n",
      "100%|██████████| 1/1 [00:00<00:00, 11.45it/s]\n",
      "100%|██████████| 1/1 [00:00<00:00,  5.79it/s]\n",
      "100%|██████████| 1/1 [00:00<00:00, 11.22it/s]\n",
      "100%|██████████| 1/1 [00:00<00:00, 11.19it/s]\n",
      "100%|██████████| 1/1 [00:00<00:00, 11.25it/s]\n",
      "100%|██████████| 1/1 [00:00<00:00,  8.95it/s]\n",
      "100%|██████████| 1/1 [00:00<00:00, 11.48it/s]\n",
      "100%|██████████| 1/1 [00:00<00:00,  9.80it/s]\n",
      "100%|██████████| 1/1 [00:00<00:00, 11.69it/s]\n",
      "100%|██████████| 1/1 [00:00<00:00, 11.01it/s]\n",
      "100%|██████████| 1/1 [00:00<00:00, 11.75it/s]\n",
      "100%|██████████| 1/1 [00:00<00:00,  9.15it/s]\n",
      "100%|██████████| 1/1 [00:00<00:00, 11.17it/s]\n",
      "100%|██████████| 1/1 [00:00<00:00, 10.78it/s]\n"
     ]
    },
    {
     "data": {
      "text/plain": [
       "['Yzg4NmI1YWYtMGI0YS00YTMzLTk4YjYtY2JiNDJkYjI3MWVj',\n",
       " 'MjdkN2E3MjctNmU4Yi00NTcwLTg0YTEtM2Y5NjFhZDE3MDIz',\n",
       " 'ZjgzMDgyMjktZTI1Mi00OTBiLTg2MmItNDAzY2YyMDQxYjU5',\n",
       " 'ZWE5ZjBjNGUtN2M3Yy00OTQyLThjN2QtOTZkMjRmOGYzYmQ1',\n",
       " 'MzEzOGQ3OTktZDc1OC00MDdkLWE2NmQtZGZkNTAwNDU1MGRm',\n",
       " 'YzM3MDhmYzUtN2M5YS00ZTRlLThjYWUtNzFlZjQzZWNiZjYy',\n",
       " 'ZWJmNzk5MDQtODEwZS00MDNjLWFhMjEtMmZhZDhhMTA2NzAx',\n",
       " 'NDkwM2IzMjctODEwOS00ZjFkLTk2ZDYtNzk4NzNmNTQ5MmU3',\n",
       " 'Y2UzYjM1OWUtZmNjNS00NmViLWE0MDYtMTBmZDUyZTllY2E0',\n",
       " 'YWViNzc1ZmYtZmUyNi00N2M0LWIwODQtOTQ3OTA4MTE4NjMw',\n",
       " 'YzczNGVlNjUtYTk4Yy00NTBmLWJkMTEtODIzYWFkNTExY2I2',\n",
       " 'ZTRmNDI4ZTYtMzljYi00NzY3LWJkZDQtYWI0NWEwZTJiODRh',\n",
       " 'MTRlZDkxMDAtNzUzOS00NGQ1LWI3NmYtYzU1YzljNDNhNTQy',\n",
       " 'NmQ0YTlkM2YtMjhlYS00NDU4LThmMmYtNGU0NzUxMDhmZDcy',\n",
       " 'NWRhY2E3MWUtNmY4OC00ZGQ0LTllYzItNjk4NmZhMWM0NGRh',\n",
       " 'YjIzMDgxNjQtMzU2Mi00NGJkLThiYzktODY0MWQ2NWYxNTVl',\n",
       " 'ZjU2N2ZjOWMtMDRiNi00NzkwLWJmMmEtMGIxZGNkNTNjMTU3',\n",
       " 'ODM0NzhlYzctZjM5ZC00NzQ3LThkZTItNzFhYTMzY2IwOTZi',\n",
       " 'ZjI2MmUyNDYtYzBmNi00NDBmLWI0ZjMtNWE4MTAyMGU1MDM4',\n",
       " 'NDZiN2IyN2QtYjgwYi00MGJmLWE4OWEtNWU0OTBkOTM2NGE4',\n",
       " 'ZDQwNjQxYTMtMTk1ZS00ZGRmLTgxYmItZTNlOTY2NzBhNWNk',\n",
       " 'M2M0MWI4NWItMGViMS00NjA1LTk5ZTMtY2JjZDI1ZmM1NzM1',\n",
       " 'MjBjY2E3YjItZDJmYi00ZjdlLWIzNmMtM2Q4MzhmZmFlZmQy',\n",
       " 'OGU0MDAzYzItZTI4Yi00ZWNhLWFkMTEtMDIzMWIwZTgxNWI4',\n",
       " 'NjFmMjg5NjAtMDNhMS00NTk3LTlhYWEtY2E1YWE2YjdhYTdm',\n",
       " 'ZTYyMTNlMzMtZTBlMi00MmRiLWI4Y2QtOWYxNWZjYjgwZjVl',\n",
       " 'ZDU1NWNlZWEtZjEwOC00NzliLWFhZTctNzZlZmVlZmFlNGFj',\n",
       " 'YmNkNTY0NWQtYzJkZC00MDdkLTk4ZTgtNzlkN2RjM2I1OWQz',\n",
       " 'ODBjYWQzOTctOWEwNC00N2YxLWFiYWEtYzI3OGUxZmMxZDBl',\n",
       " 'OGUwY2FjMGEtZjg3ZS00ZDRiLTgyOGEtMWE3MGUxYmE0YmVl',\n",
       " 'OTg2NWFlMTQtMmFhOC00NGU1LTkyODktZWM5NmVlOWY2ODRk',\n",
       " 'NmUwMTliZWYtY2FmOC00NjJmLWFiOTEtNWZjYTFiMTNkMGM4',\n",
       " 'NjBlNjlhMDUtZGNkMC00YWM2LTg5OTYtYjI4MmRlNzBlNDVk',\n",
       " 'YTU2ZDU3OTUtMzRmNi00YjNhLWFmNTEtNTA4OGM3ODJiYTNm',\n",
       " 'MjliZWM2OGItMmFmOS00N2M1LTg4ZDgtMjIxNGM3NWQ3NThk',\n",
       " 'NWFjODAzNGUtODQ0ZS00NGFlLWE2N2YtYzcwNjg3MTdhNjIy',\n",
       " 'NzhhMmIzZjgtZDZkNC00MWRiLWJmNzQtOThiMWE5OWQ3ZWNm']"
      ]
     },
     "execution_count": 19,
     "metadata": {},
     "output_type": "execute_result"
    }
   ],
   "source": [
    "vector_store.add_documents(chunks)"
   ]
  },
  {
   "cell_type": "markdown",
   "metadata": {},
   "source": [
    "## Search "
   ]
  },
  {
   "cell_type": "code",
   "execution_count": 29,
   "metadata": {},
   "outputs": [],
   "source": [
    "from azure.search.documents import SearchClient\n",
    "from azure.core.credentials import AzureKeyCredential"
   ]
  },
  {
   "cell_type": "code",
   "execution_count": 31,
   "metadata": {},
   "outputs": [],
   "source": [
    "search_client = SearchClient(endpoint=os.getenv(\"AZURE_SEARCH_SERVICE_ENDPOINT\"),\n",
    "                      index_name=os.getenv(\"AZURE_COGNITIVE_SEARCH_INDEX_NAME\"),\n",
    "                      credential=AzureKeyCredential(os.getenv(\"AZURE_SEARCH_ADMIN_KEY\")))"
   ]
  },
  {
   "cell_type": "code",
   "execution_count": 32,
   "metadata": {},
   "outputs": [],
   "source": [
    "def get_embeddings(text: str):\n",
    "    # There are a few ways to get embeddings. This is just one example.\n",
    "    openai.api_type = \"azure\"\n",
    "    openai.api_key = os.getenv(\"OPENAI_API_KEY\")\n",
    "    openai.api_base = os.getenv(\"OPENAI_ENDPOINT\")\n",
    "    openai.api_version = os.getenv(\"AZURE_OPENAI_API_VERSION\") \n",
    "    deployment=\"foundational-ada\"\n",
    "    model_name=\"text-embedding-ada-002\"\n",
    "    embeddings = OpenAIEmbeddings(\n",
    "                    deployment=deployment,\n",
    "                    model=model_name,\n",
    "                    openai_api_base=os.getenv(\"OPENAI_ENDPOINT\"),\n",
    "                    openai_api_type=\"azure\",\n",
    "                    show_progress_bar=True,\n",
    "                    chunk_size=1000,\n",
    "                )\n",
    "    embedding = embeddings.embed_query(text)\n",
    "    return embedding"
   ]
  },
  {
   "cell_type": "code",
   "execution_count": 33,
   "metadata": {},
   "outputs": [],
   "source": [
    "search_query = \"LLM is a master of laws\""
   ]
  },
  {
   "cell_type": "code",
   "execution_count": 38,
   "metadata": {},
   "outputs": [
    {
     "name": "stderr",
     "output_type": "stream",
     "text": [
      "100%|██████████| 1/1 [00:00<00:00, 10.25it/s]"
     ]
    },
    {
     "name": "stderr",
     "output_type": "stream",
     "text": [
      "\n"
     ]
    }
   ],
   "source": [
    "# hybrid retrieval + rerank \n",
    "r = search_client.search(\n",
    "        search_text=search_query,\n",
    "        top=5, \n",
    "        vectors=[Vector(value=get_embeddings(search_query), k=50, fields=\"content_vector\")],\n",
    "        query_type=\"semantic\",\n",
    "        semantic_configuration_name=\"config\",\n",
    "        query_language=\"en-us\",\n",
    "        filter=\"security_group eq 'group2'\",)\n",
    "\n",
    "for doc in r:\n",
    "    content = doc[\"content\"].replace(\"\\n\", \" \")[:1000]\n",
    "    print(f\"score: {doc['@search.score']}, reranker: {doc['@search.reranker_score']}. {content}\")"
   ]
  }
 ],
 "metadata": {
  "kernelspec": {
   "display_name": "sharepoint-indexing",
   "language": "python",
   "name": "python3"
  },
  "language_info": {
   "codemirror_mode": {
    "name": "ipython",
    "version": 3
   },
   "file_extension": ".py",
   "mimetype": "text/x-python",
   "name": "python",
   "nbconvert_exporter": "python",
   "pygments_lexer": "ipython3",
   "version": "3.9.18"
  }
 },
 "nbformat": 4,
 "nbformat_minor": 2
}
