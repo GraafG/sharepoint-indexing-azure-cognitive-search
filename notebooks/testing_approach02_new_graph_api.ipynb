{
 "cells": [
  {
   "cell_type": "code",
   "execution_count": 26,
   "metadata": {},
   "outputs": [
    {
     "name": "stdout",
     "output_type": "stream",
     "text": [
      "Directory changed to C:\\Users\\pablosal\\Desktop\\sharepoint-indexing-azure-cognitive-search\n"
     ]
    }
   ],
   "source": [
    "import os\n",
    "import msal\n",
    "from msal.application import ConfidentialClientApplication\n",
    "from dotenv import load_dotenv\n",
    "import jwt\n",
    "import json\n",
    "import requests\n",
    "from datetime import datetime, timedelta\n",
    "from typing import Optional, Dict, List\n",
    "\n",
    "# Define the target directory\n",
    "target_directory = r'C:\\Users\\pablosal\\Desktop\\sharepoint-indexing-azure-cognitive-search'\n",
    "\n",
    "# Load .env file\n",
    "load_dotenv()\n",
    "\n",
    "# Check if the directory exists\n",
    "if os.path.exists(target_directory):\n",
    "    # Change the current working directory\n",
    "    os.chdir(target_directory)\n",
    "    print(f\"Directory changed to {os.getcwd()}\")\n",
    "else:\n",
    "    print(f\"Directory {target_directory} does not exist.\")\n",
    "\n",
    "#load logging \n",
    "from utils.ml_logging import get_logger\n",
    "logger = get_logger()"
   ]
  },
  {
   "cell_type": "code",
   "execution_count": 27,
   "metadata": {},
   "outputs": [],
   "source": [
    "import asyncio\n",
    "from azure.identity.aio import ClientSecretCredential\n",
    "from msgraph import GraphServiceClient"
   ]
  },
  {
   "cell_type": "code",
   "execution_count": 28,
   "metadata": {},
   "outputs": [],
   "source": [
    "import asyncio\n",
    "from azure.identity.aio import ClientSecretCredential\n",
    "from msgraph import GraphServiceClient\n",
    "\n",
    "# Get the variables\n",
    "tenantID = os.getenv('TENANT_ID')\n",
    "clientID = os.getenv('CLIENT_ID')\n",
    "clientSecret = os.getenv('CLIENT_SECRET')\n",
    "graphURI = 'https://graph.microsoft.com'\n",
    "authority = 'https://login.microsoftonline.com/' + tenantID\n",
    "scope = ['https://graph.microsoft.com/.default']\n",
    "\n",
    "credential = ClientSecretCredential(\n",
    "    tenantID,\n",
    "    clientID,\n",
    "    clientSecret\n",
    ")\n",
    "scopes = ['https://graph.microsoft.com/.default']\n",
    "client = GraphServiceClient(credentials=credential, scopes=scopes)"
   ]
  },
  {
   "cell_type": "code",
   "execution_count": 29,
   "metadata": {},
   "outputs": [],
   "source": [
    "async def get_applications():\n",
    "    apps = await client.applications.get()\n",
    "    if apps and apps.value:\n",
    "        for app in apps.value:\n",
    "            print(app.id)"
   ]
  },
  {
   "cell_type": "code",
   "execution_count": 30,
   "metadata": {},
   "outputs": [],
   "source": [
    "async def get_users():\n",
    "    users = await client.users.get()\n",
    "    if users and users.value:\n",
    "        for user in users.value:\n",
    "            print(user.id, user.display_name, user.mail)"
   ]
  },
  {
   "cell_type": "code",
   "execution_count": 31,
   "metadata": {},
   "outputs": [],
   "source": [
    "from msgraph.generated.users.item.messages.messages_request_builder import MessagesRequestBuilder\n",
    "\n",
    "async def get_user_messages():\n",
    "    request_config = MessagesRequestBuilder.MessagesRequestBuilderGetRequestConfiguration(\n",
    "    )\n",
    "    request_config.headers.add(\"prefer\", \"outlook.body-content-type=text\")\n",
    "\n",
    "    messages = await (client.users.by_user_id('USER_ID')\n",
    "                    .messages\n",
    "                    .get(request_configuration=request_config))\n",
    "    if messages and messages.value:\n",
    "        for msg in messages.value:\n",
    "            print(msg.subject, msg.id, msg.from_)"
   ]
  },
  {
   "cell_type": "code",
   "execution_count": 32,
   "metadata": {},
   "outputs": [],
   "source": [
    "async def get_drives():\n",
    "    drives = await client.drives.get()\n",
    "    if drives and drives.value:\n",
    "        for drive in drives.value:\n",
    "            print(drive.id, drive.drive_type, drive.name, drive.description, drive.web_url)"
   ]
  },
  {
   "cell_type": "code",
   "execution_count": 33,
   "metadata": {},
   "outputs": [
    {
     "name": "stdout",
     "output_type": "stream",
     "text": [
      "2d3e4338-0a69-4904-8f80-cc8878ffa687\n",
      "6fc47a30-0f2b-4ac1-b792-4326f36df354\n",
      "bfaf9e16-6ea2-4795-ac79-b2338b20078a\n"
     ]
    }
   ],
   "source": [
    "await get_applications()"
   ]
  },
  {
   "cell_type": "code",
   "execution_count": 34,
   "metadata": {},
   "outputs": [
    {
     "name": "stdout",
     "output_type": "stream",
     "text": [
      "b!LD-80aZbckOQCqgs72olAj3fTteFBCRNugY9EbqD_eEv4NV4KCpRTYwd3M6492Tg documentLibrary Documents  https://mngenvmcap747548.sharepoint.com/Shared%20Documents\n"
     ]
    }
   ],
   "source": [
    "await get_drives()"
   ]
  },
  {
   "cell_type": "code",
   "execution_count": 14,
   "metadata": {},
   "outputs": [
    {
     "name": "stdout",
     "output_type": "stream",
     "text": [
      "ea78aab4-722b-48f7-8a37-7b81b4ba0103 System Administrator admin@MngEnvMCAP747548.onmicrosoft.com\n",
      "f08207bf-08e2-42cf-ba4c-ac9a99c2103d Microsoft Service Account None\n",
      "4e6b32a4-9233-4256-8e97-94e5584c5886 Pablo Salvador Lopez pablosal@microsoft.com\n",
      "1e8fea8e-64f2-427d-a364-8bb18eb9ccc3 pablosalvadorlopez11 pablosalvadorlopez11@gmail.com\n"
     ]
    }
   ],
   "source": [
    "await get_users()"
   ]
  },
  {
   "cell_type": "code",
   "execution_count": 35,
   "metadata": {},
   "outputs": [],
   "source": [
    "async def get_sites():\n",
    "    sites = await client.sites.get()\n",
    "    if sites and sites.value:\n",
    "        for site in sites.value:\n",
    "            print(site)"
   ]
  },
  {
   "cell_type": "code",
   "execution_count": 36,
   "metadata": {},
   "outputs": [
    {
     "name": "stdout",
     "output_type": "stream",
     "text": [
      "Site(additional_data={}, id='mngenvmcap747548.sharepoint.com,877fe60f-a62d-4ed1-8eda-af543c437d2c,ac47d8a7-cd54-4344-bd9d-26ada5a075c0', odata_type='#microsoft.graph.site', created_by=None, created_by_user=None, created_date_time=DateTime(2023, 10, 18, 14, 20, 27, tzinfo=Timezone('UTC')), description=None, e_tag=None, last_modified_by=None, last_modified_by_user=None, last_modified_date_time=None, name='Contoso', parent_reference=None, web_url='https://mngenvmcap747548.sharepoint.com/sites/Contoso', analytics=None, columns=None, content_types=None, display_name='Contoso', drive=None, drives=None, error=None, external_columns=None, is_personal_site=False, items=None, lists=None, onenote=None, operations=None, permissions=None, root=Root(additional_data={}, odata_type=None), sharepoint_ids=None, site_collection=SiteCollection(additional_data={}, data_location_code=None, hostname='mngenvmcap747548.sharepoint.com', odata_type=None, root=None), sites=None, term_store=None, term_stores=None)\n",
      "Site(additional_data={}, id='mngenvmcap747548.sharepoint.com,ffc50826-9c1e-4bb2-bd05-e6ea5c2e52af,85eaf44e-3efe-4d79-b41b-e7b288c9e09e', odata_type='#microsoft.graph.site', created_by=None, created_by_user=None, created_date_time=DateTime(2023, 10, 18, 14, 20, 4, tzinfo=Timezone('UTC')), description=None, e_tag=None, last_modified_by=None, last_modified_by_user=None, last_modified_date_time=None, name='Team Site', parent_reference=None, web_url='https://mngenvmcap747548.sharepoint.com/sites/contentTypeHub', analytics=None, columns=None, content_types=None, display_name='Team Site', drive=None, drives=None, error=None, external_columns=None, is_personal_site=False, items=None, lists=None, onenote=None, operations=None, permissions=None, root=Root(additional_data={}, odata_type=None), sharepoint_ids=None, site_collection=SiteCollection(additional_data={}, data_location_code=None, hostname='mngenvmcap747548.sharepoint.com', odata_type=None, root=None), sites=None, term_store=None, term_stores=None)\n",
      "Site(additional_data={}, id='mngenvmcap747548.sharepoint.com,919f20d2-a65e-40ea-a7f8-06e91cc20573,621259d1-0e7a-48f5-899a-9100b72482ce', odata_type='#microsoft.graph.site', created_by=None, created_by_user=None, created_date_time=DateTime(2023, 10, 18, 14, 19, 58, tzinfo=Timezone('UTC')), description=None, e_tag=None, last_modified_by=None, last_modified_by_user=None, last_modified_date_time=None, name=None, parent_reference=None, web_url='https://mngenvmcap747548.sharepoint.com/search', analytics=None, columns=None, content_types=None, display_name=None, drive=None, drives=None, error=None, external_columns=None, is_personal_site=False, items=None, lists=None, onenote=None, operations=None, permissions=None, root=Root(additional_data={}, odata_type=None), sharepoint_ids=None, site_collection=SiteCollection(additional_data={}, data_location_code=None, hostname='mngenvmcap747548.sharepoint.com', odata_type=None, root=None), sites=None, term_store=None, term_stores=None)\n",
      "Site(additional_data={}, id='mngenvmcap747548.sharepoint.com,d1bc3f2c-5ba6-4372-900a-a82cef6a2502,d74edf3d-0485-4d24-ba06-3d11ba83fde1', odata_type='#microsoft.graph.site', created_by=None, created_by_user=None, created_date_time=DateTime(2023, 10, 18, 14, 19, 17, tzinfo=Timezone('UTC')), description=None, e_tag=None, last_modified_by=None, last_modified_by_user=None, last_modified_date_time=None, name='Communication site', parent_reference=None, web_url='https://mngenvmcap747548.sharepoint.com/', analytics=None, columns=None, content_types=None, display_name='Communication site', drive=None, drives=None, error=None, external_columns=None, is_personal_site=False, items=None, lists=None, onenote=None, operations=None, permissions=None, root=Root(additional_data={}, odata_type=None), sharepoint_ids=None, site_collection=SiteCollection(additional_data={}, data_location_code=None, hostname='mngenvmcap747548.sharepoint.com', odata_type=None, root=None), sites=None, term_store=None, term_stores=None)\n"
     ]
    }
   ],
   "source": [
    "await get_sites()"
   ]
  },
  {
   "cell_type": "code",
   "execution_count": 40,
   "metadata": {},
   "outputs": [],
   "source": [
    "site_domain = \"mngenvmcap747548.sharepoint.com\"\n",
    "site_name= \"Contoso\""
   ]
  },
  {
   "cell_type": "code",
   "execution_count": 47,
   "metadata": {},
   "outputs": [],
   "source": [
    "endpoint = 'https://graph.microsoft.com/v1.0/sites/' + f\"{site_domain}\" + ':/sites/' +  f\"{site_name}\" + ':/'"
   ]
  },
  {
   "cell_type": "code",
   "execution_count": 56,
   "metadata": {},
   "outputs": [],
   "source": [
    "sites = client.sites.with_url(endpoint)"
   ]
  },
  {
   "cell_type": "code",
   "execution_count": 63,
   "metadata": {},
   "outputs": [],
   "source": [
    "sites = await client.sites.get()"
   ]
  },
  {
   "cell_type": "code",
   "execution_count": 43,
   "metadata": {},
   "outputs": [],
   "source": [
    "async def get_sites():\n",
    "    sites = client.sites.with_url(endpoint)\n",
    "    if sites and sites.value:\n",
    "        for site in sites.value:\n",
    "            print(site.id)"
   ]
  }
 ],
 "metadata": {
  "kernelspec": {
   "display_name": "sharepoint-indexing",
   "language": "python",
   "name": "python3"
  },
  "language_info": {
   "codemirror_mode": {
    "name": "ipython",
    "version": 3
   },
   "file_extension": ".py",
   "mimetype": "text/x-python",
   "name": "python",
   "nbconvert_exporter": "python",
   "pygments_lexer": "ipython3",
   "version": "3.9.18"
  }
 },
 "nbformat": 4,
 "nbformat_minor": 2
}
