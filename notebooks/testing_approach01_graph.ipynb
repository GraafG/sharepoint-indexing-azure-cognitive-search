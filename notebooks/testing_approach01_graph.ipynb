{
 "cells": [
  {
   "cell_type": "code",
   "execution_count": 1,
   "metadata": {},
   "outputs": [
    {
     "name": "stdout",
     "output_type": "stream",
     "text": [
      "Directory changed to C:\\Users\\pablosal\\Desktop\\sharepoint-indexing-azure-cognitive-search\n"
     ]
    }
   ],
   "source": [
    "import os\n",
    "import msal\n",
    "from msal.application import ConfidentialClientApplication\n",
    "from dotenv import load_dotenv\n",
    "import jwt\n",
    "import json\n",
    "import requests\n",
    "from datetime import datetime, timedelta\n",
    "from typing import Optional, Dict, List\n",
    "from datetime import datetime, timedelta, timezone\n",
    "\n",
    "# Define the target directory\n",
    "target_directory = r'C:\\Users\\pablosal\\Desktop\\sharepoint-indexing-azure-cognitive-search'\n",
    "\n",
    "# Load .env file\n",
    "load_dotenv()\n",
    "\n",
    "# Check if the directory exists\n",
    "if os.path.exists(target_directory):\n",
    "    # Change the current working directory\n",
    "    os.chdir(target_directory)\n",
    "    print(f\"Directory changed to {os.getcwd()}\")\n",
    "else:\n",
    "    print(f\"Directory {target_directory} does not exist.\")\n",
    "\n",
    "#load logging \n",
    "from utils.ml_logging import get_logger\n",
    "logger = get_logger()"
   ]
  },
  {
   "cell_type": "code",
   "execution_count": null,
   "metadata": {},
   "outputs": [],
   "source": [
    "# There needs to be a config.json file that looks like this:\n",
    "    \n",
    "# {\n",
    "#     \"authority\": \"https://login.microsoftonline.com/XXX\",\n",
    "#     \"client_id\": \"XXX\",\n",
    "#     \"scope\": [ \"https://graph.microsoft.com/.default\" ],\n",
    "#     \"secret\": \"XXX\",\n",
    "#     \"site_domain\": \"XXX.sharepoint.com\",\n",
    "#     \"site_name\": \"Mark8ProjectTeam\",\n",
    "#     \"include_auth_info\": true,\n",
    "#     \"search_service_name\": \"XXX\",\n",
    "#     \"search_index_name\": \"sharepoint-index-1\",\n",
    "#     \"search_admin_api_key\": \"XXX\"\n",
    "# }"
   ]
  },
  {
   "cell_type": "code",
   "execution_count": 2,
   "metadata": {},
   "outputs": [],
   "source": [
    "accessToken = None \n",
    "requestHeaders = None \n",
    "tokenExpiry = None \n",
    "queryResults = None "
   ]
  },
  {
   "cell_type": "code",
   "execution_count": 3,
   "metadata": {},
   "outputs": [],
   "source": [
    "# Get the variables\n",
    "tenantID = os.getenv('TENANT_ID')\n",
    "clientID = os.getenv('CLIENT_ID')\n",
    "clientSecret = os.getenv('CLIENT_SECRET')\n",
    "graphURI = 'https://graph.microsoft.com'\n",
    "authority = 'https://login.microsoftonline.com/' + tenantID\n",
    "scope = ['https://graph.microsoft.com/.default']"
   ]
  },
  {
   "cell_type": "code",
   "execution_count": 4,
   "metadata": {},
   "outputs": [],
   "source": [
    "app = msal.ConfidentialClientApplication(\n",
    "    client_id=clientID,\n",
    "    authority=f'https://login.microsoftonline.com/{tenantID}',\n",
    "    client_credential=clientSecret\n",
    ")"
   ]
  },
  {
   "cell_type": "code",
   "execution_count": 5,
   "metadata": {},
   "outputs": [],
   "source": [
    "# Acquire a token for the Graph API\n",
    "result = app.acquire_token_silent(scope, account=None)\n",
    "if not result:\n",
    "    result = app.acquire_token_for_client(scopes=scope)\n",
    "\n",
    "# Check if the token was acquired\n",
    "if 'access_token' in result:\n",
    "    token = result['access_token']\n",
    "else:\n",
    "    print(result.get('error'))\n",
    "    print(result.get('error_description'))\n",
    "    print(result.get('correlation_id'))\n",
    "    exit()"
   ]
  },
  {
   "cell_type": "code",
   "execution_count": 6,
   "metadata": {},
   "outputs": [],
   "source": [
    "# Call the Graph API\n",
    "graph_url = 'https://graph.microsoft.com/v1.0'"
   ]
  },
  {
   "cell_type": "code",
   "execution_count": 7,
   "metadata": {},
   "outputs": [
    {
     "name": "stdout",
     "output_type": "stream",
     "text": [
      "{'error': {'code': 'BadRequest', 'message': '/me request is only valid with delegated authentication flow.', 'innerError': {'date': '2023-12-09T01:09:02', 'request-id': '4eda5fed-6101-472e-8250-f44d34d433f5', 'client-request-id': '4eda5fed-6101-472e-8250-f44d34d433f5'}}}\n"
     ]
    }
   ],
   "source": [
    "# Get the current user\n",
    "user = requests.get(\n",
    "    f'{graph_url}/me',\n",
    "    headers={'Authorization': 'Bearer ' + token}\n",
    ").json()\n",
    "print(user)\n",
    "\n",
    "# Get the groups the user belongs to\n",
    "groups = requests.get(\n",
    "    f'{graph_url}/me/memberOf',\n",
    "    headers={'Authorization': 'Bearer ' + token}\n",
    ").json()"
   ]
  },
  {
   "cell_type": "code",
   "execution_count": 53,
   "metadata": {},
   "outputs": [],
   "source": [
    "# Replace these with your values\n",
    "tenantID = os.getenv('TENANT_ID')\n",
    "clientID = os.getenv('CLIENT_ID')\n",
    "username = 'admin@MngEnvMCAP747548.onmicrosoft.com'\n",
    "password = 'your_password'\n",
    "scope = ['https://graph.microsoft.com/.default']"
   ]
  },
  {
   "cell_type": "code",
   "execution_count": null,
   "metadata": {},
   "outputs": [],
   "source": [
    "# Create a public client application\n",
    "app = msal.PublicClientApplication(\n",
    "    client_id=client_id,\n",
    "    authority=f'https://login.microsoftonline.com/{tenant_id}'\n",
    ")\n",
    "\n",
    "# Acquire a token for the Graph API\n",
    "result = app.acquire_token_by_username_password(\n",
    "    username=username,\n",
    "    password=password,\n",
    "    scopes=scope\n",
    ")"
   ]
  },
  {
   "cell_type": "code",
   "execution_count": null,
   "metadata": {},
   "outputs": [],
   "source": [
    "# Create a public client application\n",
    "app = msal.PublicClientApplication(\n",
    "    client_id=client_id,\n",
    "    authority=f'https://login.microsoftonline.com/{tenant_id}'\n",
    ")\n",
    "\n",
    "# Acquire a token for the Graph API\n",
    "result = app.acquire_token_by_username_password(\n",
    "    username=username,\n",
    "    password=password,\n",
    "    scopes=scope\n",
    ")\n",
    "\n",
    "# Check if the token was acquired\n",
    "if 'access_token' in result:\n",
    "    token = result['access_token']\n",
    "else:\n",
    "    print(result.get('error'))\n",
    "    print(result.get('error_description'))\n",
    "    print(result.get('correlation_id'))\n",
    "    exit()\n",
    "\n",
    "# Call the Graph API\n",
    "graph_url = 'https://graph.microsoft.com/v1.0'"
   ]
  },
  {
   "cell_type": "code",
   "execution_count": null,
   "metadata": {},
   "outputs": [],
   "source": [
    "# Get the current user\n",
    "user = requests.get(\n",
    "    f'{graph_url}/me',\n",
    "    headers={'Authorization': 'Bearer ' + token}\n",
    ").json()\n",
    "print(user)\n",
    "\n",
    "# Get the groups the user belongs to\n",
    "groups = requests.get(\n",
    "    f'{graph_url}/me/memberOf',\n",
    "    headers={'Authorization': 'Bearer ' + token}\n",
    ").json()\n",
    "print(groups)"
   ]
  },
  {
   "cell_type": "code",
   "execution_count": 25,
   "metadata": {},
   "outputs": [],
   "source": [
    "from msal import PublicClientApplication\n",
    "\n",
    "app = PublicClientApplication(tenantID, authority=\"https://login.microsoftonline.com/\" + tenantID)\n",
    "accounts = app.get_accounts()"
   ]
  },
  {
   "cell_type": "code",
   "execution_count": 28,
   "metadata": {},
   "outputs": [],
   "source": [
    "result = app.acquire_token_silent(scope,account=None)"
   ]
  },
  {
   "cell_type": "code",
   "execution_count": 29,
   "metadata": {},
   "outputs": [
    {
     "ename": "TypeError",
     "evalue": "'NoneType' object is not subscriptable",
     "output_type": "error",
     "traceback": [
      "\u001b[1;31m---------------------------------------------------------------------------\u001b[0m",
      "\u001b[1;31mTypeError\u001b[0m                                 Traceback (most recent call last)",
      "\u001b[1;32mc:\\Users\\pablosal\\Desktop\\sharepoint-indexing-azure-cognitive-search\\notebooks\\testing_approach01_graph.ipynb Cell 8\u001b[0m line \u001b[0;36m2\n\u001b[0;32m      <a href='vscode-notebook-cell:/c%3A/Users/pablosal/Desktop/sharepoint-indexing-azure-cognitive-search/notebooks/testing_approach01_graph.ipynb#Y123sZmlsZQ%3D%3D?line=0'>1</a>\u001b[0m \u001b[39mimport\u001b[39;00m \u001b[39mrequests\u001b[39;00m\n\u001b[1;32m----> <a href='vscode-notebook-cell:/c%3A/Users/pablosal/Desktop/sharepoint-indexing-azure-cognitive-search/notebooks/testing_approach01_graph.ipynb#Y123sZmlsZQ%3D%3D?line=1'>2</a>\u001b[0m headers \u001b[39m=\u001b[39m {\u001b[39m'\u001b[39m\u001b[39mAuthorization\u001b[39m\u001b[39m'\u001b[39m: \u001b[39m'\u001b[39m\u001b[39mBearer \u001b[39m\u001b[39m'\u001b[39m \u001b[39m+\u001b[39m result[\u001b[39m'\u001b[39;49m\u001b[39maccess_token\u001b[39;49m\u001b[39m'\u001b[39;49m]}\n\u001b[0;32m      <a href='vscode-notebook-cell:/c%3A/Users/pablosal/Desktop/sharepoint-indexing-azure-cognitive-search/notebooks/testing_approach01_graph.ipynb#Y123sZmlsZQ%3D%3D?line=2'>3</a>\u001b[0m data \u001b[39m=\u001b[39m {\u001b[39m'\u001b[39m\u001b[39msecurityEnabledOnly\u001b[39m\u001b[39m'\u001b[39m: \u001b[39mFalse\u001b[39;00m}\n\u001b[0;32m      <a href='vscode-notebook-cell:/c%3A/Users/pablosal/Desktop/sharepoint-indexing-azure-cognitive-search/notebooks/testing_approach01_graph.ipynb#Y123sZmlsZQ%3D%3D?line=3'>4</a>\u001b[0m response \u001b[39m=\u001b[39m requests\u001b[39m.\u001b[39mpost(\u001b[39m'\u001b[39m\u001b[39mhttps://graph.microsoft.com/v1.0/me/getMemberGroups\u001b[39m\u001b[39m'\u001b[39m, headers\u001b[39m=\u001b[39mheaders, json\u001b[39m=\u001b[39mdata)\n",
      "\u001b[1;31mTypeError\u001b[0m: 'NoneType' object is not subscriptable"
     ]
    }
   ],
   "source": [
    "import requests\n",
    "headers = {'Authorization': 'Bearer ' + result['access_token']}\n",
    "data = {'securityEnabledOnly': False}\n",
    "response = requests.post('https://graph.microsoft.com/v1.0/me/getMemberGroups', headers=headers, json=data)\n",
    "if response.ok:\n",
    "    groups = response.json()['value']\n",
    "    print(groups) # This will print the lis"
   ]
  },
  {
   "cell_type": "code",
   "execution_count": 61,
   "metadata": {},
   "outputs": [],
   "source": [
    "def msgraph_auth(client_id: str, client_secret: str, tenant_id: str, authority: Optional[str] = None, scope: Optional[List[str]] = None) -> ConfidentialClientApplication:\n",
    "    \"\"\"\n",
    "    Authenticate with Microsoft Graph using MSAL for Python.\n",
    "\n",
    "    This function authenticates with Microsoft Graph using the MSAL library. It attempts to acquire a token silently,\n",
    "    and if that fails, it tries to acquire a new token. It decodes and prints the acquired access token and its expiry time.\n",
    "\n",
    "    :param client_id: The application (client) ID of your Azure AD app registration.\n",
    "    :param client_secret: The client secret for your Azure AD app registration.\n",
    "    :param tenant_id: The tenant ID for your Azure AD tenant.\n",
    "    :param authority: The authority URL for your Azure AD tenant. Optional, defaults to 'https://login.microsoftonline.com/{tenant_id}'.\n",
    "    :param scope: Scopes required for the token. Optional, defaults to ['https://graph.microsoft.com/.default'].\n",
    "    :return: A dictionary with the access token and its expiry time if successful, None otherwise.\n",
    "    :raises Exception: If there are issues in acquiring or decoding the token.\n",
    "    \"\"\"\n",
    "    if authority is None:\n",
    "        authority = f'https://login.microsoftonline.com/{tenant_id}'\n",
    "\n",
    "    if scope is None:\n",
    "        scope = ['https://graph.microsoft.com/.default']\n",
    "\n",
    "    app = msal.ConfidentialClientApplication(client_id, authority=authority, client_credential=client_secret)\n",
    "    \n",
    "    try:\n",
    "        access_token = app.acquire_token_silent(scope, account=None)\n",
    "        if not access_token:\n",
    "            access_token = app.acquire_token_for_client(scopes=scope)\n",
    "            if 'access_token' in access_token:\n",
    "                logger.info('New access token retrieved....')\n",
    "            else:\n",
    "                logger.error('Error acquiring authorization token. Check your tenantID, clientID, and clientSecret.')\n",
    "                return None\n",
    "        else:\n",
    "            logger.info('Token retrieved from MSAL Cache....')\n",
    "\n",
    "        algorithms = [\"RS256\"]\n",
    "        decoded_access_token = jwt.decode(access_token['access_token'], algorithms=algorithms, options={\"verify_signature\": False})\n",
    "        access_token_formatted = json.dumps(decoded_access_token, indent=2)\n",
    "        logger.info('Decoded Access Token:\\n%s', access_token_formatted)\n",
    "\n",
    "        # Token Expiry\n",
    "        token_expiry = datetime.fromtimestamp(int(decoded_access_token['exp']))\n",
    "        logger.info('Token Expires at: %s', str(token_expiry))\n",
    "        return access_token\n",
    "    except Exception as err:\n",
    "        logger.error(\"Error in msgraph_auth: %s\", str(err))\n",
    "        raise"
   ]
  },
  {
   "cell_type": "code",
   "execution_count": 62,
   "metadata": {},
   "outputs": [],
   "source": [
    "from docx import Document\n",
    "import io"
   ]
  },
  {
   "cell_type": "code",
   "execution_count": 63,
   "metadata": {},
   "outputs": [],
   "source": [
    "def make_ms_graph_request(access_token: str, url: str) -> Dict:\n",
    "    \"\"\"\n",
    "    Make a request to the Microsoft Graph API.\n",
    "\n",
    "    :param access_token: The access token for Microsoft Graph API authentication.\n",
    "    :param url: The URL for the Microsoft Graph API endpoint.\n",
    "    :return: The JSON response from the Microsoft Graph API.\n",
    "    :raises Exception: If there's an HTTP error or other issues in making the request.\n",
    "    \"\"\"\n",
    "    headers = {\"Authorization\": f\"Bearer {access_token}\"}\n",
    "    try:\n",
    "        response = requests.get(url, headers=headers)\n",
    "        response.raise_for_status()\n",
    "        return response.json()\n",
    "    except requests.exceptions.HTTPError as err:\n",
    "        logger.error(f\"HTTP Error: {err}\")\n",
    "        raise\n",
    "    except Exception as err:\n",
    "        logger.error(f\"Error in make_ms_graph_request: {err}\")\n",
    "        raise\n",
    "\n",
    "def get_drive_id(access_token: str, site_id: str) -> str:\n",
    "    \"\"\"\n",
    "    Get the drive ID from a Microsoft Graph site.\n",
    "\n",
    "    :param access_token: The access token for Microsoft Graph API authentication.\n",
    "    :param site_id: The site ID in Microsoft Graph.\n",
    "    :return: The drive ID.\n",
    "    :raises Exception: If there's an error in fetching the drive ID.\n",
    "    \"\"\"\n",
    "    url = f\"https://graph.microsoft.com/v1.0/sites/{site_id}/drive\"\n",
    "    try:\n",
    "        json_response = make_ms_graph_request(access_token, url)\n",
    "        return json_response[\"id\"]\n",
    "    except Exception as err:\n",
    "        logger.error(f\"Error in get_drive_id: {err}\")\n",
    "        raise\n",
    "\n",
    "def get_files_in_site(access_token: str, site_id: str, drive_id: str, minutes_ago: Optional[int] = None, file_formats: Optional[List[str]] = None) -> List[Dict]:\n",
    "    \"\"\"\n",
    "    Get a list of files in a site's drive, optionally filtered by creation or last modification time and file formats.\n",
    "\n",
    "    :param access_token: The access token for Microsoft Graph API authentication.\n",
    "    :param site_id: The site ID in Microsoft Graph.\n",
    "    :param drive_id: The drive ID in Microsoft Graph.\n",
    "    :param minutes_ago: Optional integer to filter files created or updated within the specified number of minutes from now. If None, no time-based filtering is applied.\n",
    "    :param file_formats: List of desired file formats.\n",
    "    :return: A list of file details.\n",
    "    :raises Exception: If there's an error in fetching file details.\n",
    "    \"\"\"\n",
    "    url = f\"https://graph.microsoft.com/v1.0/sites/{site_id}/drives/{drive_id}/root/children\"\n",
    "    try:\n",
    "        logger.info('Making request to Microsoft Graph API')\n",
    "        json_response = make_ms_graph_request(access_token, url)\n",
    "        files = json_response[\"value\"]\n",
    "        logger.info('Received response from Microsoft Graph API')   \n",
    "\n",
    "        time_limit = datetime.now(timezone.utc) - timedelta(minutes=minutes_ago) if minutes_ago is not None else None\n",
    "\n",
    "        filtered_files = [file for file in files if (\n",
    "            (time_limit is None or \n",
    "             datetime.fromisoformat(file['fileSystemInfo']['createdDateTime'].rstrip('Z')).replace(tzinfo=timezone.utc) >= time_limit or \n",
    "             datetime.fromisoformat(file['fileSystemInfo']['lastModifiedDateTime'].rstrip('Z')).replace(tzinfo=timezone.utc) >= time_limit) and\n",
    "            (not file_formats or any(file['name'].endswith(f'.{fmt}') for fmt in file_formats))\n",
    "        )]\n",
    "\n",
    "        return filtered_files\n",
    "    except Exception as err:\n",
    "        logger.error(f\"Error in get_files_in_site: {err}\")\n",
    "        raise\n",
    " \n",
    "\n",
    "def get_file_permissions(access_token: str, site_id: str, item_id: str) -> List[Dict]:\n",
    "    \"\"\"\n",
    "    Get the permissions of a file in a site.\n",
    "\n",
    "    :param access_token: The access token for Microsoft Graph API authentication.\n",
    "    :param site_id: The site ID in Microsoft Graph.\n",
    "    :param item_id: The item ID of the file in Microsoft Graph.\n",
    "    :return: A list of permission details.\n",
    "    :raises Exception: If there's an error in fetching permission details.\n",
    "    \"\"\"\n",
    "    url = f\"https://graph.microsoft.com/v1.0/sites/{site_id}/drive/items/{item_id}/permissions\"\n",
    "\n",
    "    try:\n",
    "        json_response = make_ms_graph_request(access_token, url)\n",
    "        return json_response[\"value\"]\n",
    "    except Exception as err:\n",
    "        logger.error(f\"Error in get_file_permissions: {err}\")\n",
    "        raise\n",
    "\n",
    "def group_users_by_role(user_data: List[Dict]) -> str:\n",
    "    \"\"\"\n",
    "    Group users by their roles and return a JSON string representing this grouping.\n",
    "\n",
    "    This function takes a list of user data dictionaries, each containing user roles, and other attributes.\n",
    "    It returns a JSON string where the keys are roles and the values are lists of user display names corresponding to each role.\n",
    "\n",
    "    :param user_data: List of dictionaries containing user data.\n",
    "    :return: JSON string representing users grouped by their roles.\n",
    "    :raises DataError: If there are issues with data processing.\n",
    "    \"\"\"\n",
    "    try:\n",
    "        grouped_users = {}\n",
    "        for user in user_data:\n",
    "            roles = user.get('roles', [])\n",
    "            display_name = user.get('grantedTo', {}).get('user', {}).get('displayName') or \\\n",
    "                           user.get('grantedToV2', {}).get('siteGroup', {}).get('displayName') or \\\n",
    "                           user.get('grantedToV2', {}).get('group', {}).get('displayName')\n",
    "\n",
    "            for role in roles:\n",
    "                if role in grouped_users:\n",
    "                    grouped_users[role].append(display_name)\n",
    "                else:\n",
    "                    grouped_users[role] = [display_name]\n",
    "\n",
    "        return json.dumps(grouped_users)\n",
    "    except Exception as e:\n",
    "        logger.error(f\"Error processing user data: {e}\")\n",
    "\n",
    "def get_docx_content(site_id: str, file_name: str, access_token: str) -> Optional[str]:\n",
    "    \"\"\"\n",
    "    Retrieve the text content from a .docx file in a specific site drive.\n",
    "\n",
    "    :param site_id: The site ID in Microsoft Graph.\n",
    "    :param file_name: The name of the .docx file.\n",
    "    :param access_token: The access token for Microsoft Graph API authentication.\n",
    "    :return: Text content of the docx file or None if there's an error.\n",
    "    \"\"\"\n",
    "    endpoint = f'https://graph.microsoft.com/v1.0/sites/{site_id}/drive/root:/{file_name}'\n",
    "    try:\n",
    "        logger.info(f'Making request for file content: {file_name}')\n",
    "        file_content_response = make_ms_graph_request(endpoint, access_token)\n",
    "        file_content = file_content_response.content\n",
    "\n",
    "        document = Document(io.BytesIO(file_content))\n",
    "        content = \"\\n\".join([paragraph.text for paragraph in document.paragraphs])\n",
    "        return content\n",
    "    except Exception as err:\n",
    "        logger.error(f\"Error retrieving content for {file_name}: {err}\")\n",
    "        return None\n",
    "    \n",
    "def get_docx_content(site_id: str, file_name: str, drive_id: str, access_token: str) -> Optional[str]:\n",
    "    \"\"\"\n",
    "    Retrieve the text content from a .docx file in a specific site drive.\n",
    "\n",
    "    :param site_id: The site ID in Microsoft Graph.\n",
    "    :param file_name: The name of the .docx file.\n",
    "    :param drive_id: The drive ID in Microsoft Graph.\n",
    "    :param access_token: The access token for Microsoft Graph API authentication.\n",
    "    :return: Text content of the docx file or None if there's an error.\n",
    "    \"\"\"\n",
    "    \n",
    "    endpoint = f'https://graph.microsoft.com/v1.0/sites/{site_id}/drives/{drive_id}/root:/{file_name}:/content'\n",
    "    try:\n",
    "        logger.info(f'Starting request for file: {file_name}')\n",
    "        response = requests.get(endpoint, headers={'Authorization': 'Bearer ' + access_token})\n",
    "\n",
    "        # Log different outcomes of the response\n",
    "        if response.status_code != 200:\n",
    "            logger.error(f\"Failed to retrieve file content. Status code: {response.status_code}, Response: {response.text}\")\n",
    "            return None\n",
    "\n",
    "        file_content = response.content\n",
    "        document = Document(io.BytesIO(file_content))\n",
    "        content = \"\\n\".join([paragraph.text for paragraph in document.paragraphs])\n",
    "\n",
    "        logger.info(f'Successfully retrieved content for file: {file_name}')\n",
    "        return content\n",
    "    except requests.exceptions.RequestException as req_err:\n",
    "        logger.error(f\"Request error retrieving content for {file_name}: {req_err}\")\n",
    "        return None\n",
    "    except Exception as err:\n",
    "        logger.error(f\"General error retrieving content for {file_name}: {err}\")\n",
    "        return None"
   ]
  },
  {
   "cell_type": "code",
   "execution_count": 64,
   "metadata": {},
   "outputs": [
    {
     "name": "stderr",
     "output_type": "stream",
     "text": [
      "2023-12-08 18:44:05,171 - micro - MainProcess - INFO     New access token retrieved.... (1613506430.py:msgraph_auth:29)\n",
      "2023-12-08 18:44:05,178 - micro - MainProcess - INFO     Decoded Access Token:\n",
      "{\n",
      "  \"aud\": \"https://graph.microsoft.com\",\n",
      "  \"iss\": \"https://sts.windows.net/9495d8c9-4ebb-4107-b905-c7b45d1b7b7a/\",\n",
      "  \"iat\": 1702082345,\n",
      "  \"nbf\": 1702082345,\n",
      "  \"exp\": 1702086245,\n",
      "  \"aio\": \"E2VgYNj8br7t7bUmT1h/Ha+ZnzS3FgA=\",\n",
      "  \"app_displayname\": \"dev-graph\",\n",
      "  \"appid\": \"118583ee-94ed-45dd-870b-73784045eb37\",\n",
      "  \"appidacr\": \"1\",\n",
      "  \"idp\": \"https://sts.windows.net/9495d8c9-4ebb-4107-b905-c7b45d1b7b7a/\",\n",
      "  \"idtyp\": \"app\",\n",
      "  \"oid\": \"4f614374-65fa-45fc-8369-cb616a6fe08f\",\n",
      "  \"rh\": \"0.Ab0AydiVlLtOB0G5Bce0XRt7egMAAAAAAAAAwAAAAAAAAADLAAA.\",\n",
      "  \"roles\": [\n",
      "    \"TeamsActivity.Read.All\",\n",
      "    \"SharePointTenantSettings.Read.All\",\n",
      "    \"People.Read.All\",\n",
      "    \"Sites.Read.All\",\n",
      "    \"Sites.Manage.All\",\n",
      "    \"Directory.Read.All\",\n",
      "    \"OnlineMeetingTranscript.Read.All\",\n",
      "    \"BrowserSiteLists.ReadWrite.All\",\n",
      "    \"Files.Read.All\",\n",
      "    \"Mail.Read\",\n",
      "    \"Chat.Read.All\"\n",
      "  ],\n",
      "  \"sub\": \"4f614374-65fa-45fc-8369-cb616a6fe08f\",\n",
      "  \"tenant_region_scope\": \"NA\",\n",
      "  \"tid\": \"9495d8c9-4ebb-4107-b905-c7b45d1b7b7a\",\n",
      "  \"uti\": \"nrWhLxYAZEu5-VEpIS0KAA\",\n",
      "  \"ver\": \"1.0\",\n",
      "  \"wids\": [\n",
      "    \"0997a1d0-0d1d-4acb-b408-d5ca73121e90\"\n",
      "  ],\n",
      "  \"xms_tcdt\": 1697638621\n",
      "} (1613506430.py:msgraph_auth:39)\n",
      "2023-12-08 18:44:05,179 - micro - MainProcess - INFO     Token Expires at: 2023-12-08 19:44:05 (1613506430.py:msgraph_auth:43)\n"
     ]
    }
   ],
   "source": [
    "client_auth = msgraph_auth(clientID,clientSecret,tenantID)"
   ]
  },
  {
   "cell_type": "code",
   "execution_count": 14,
   "metadata": {},
   "outputs": [],
   "source": [
    "site_domain = 'mngenvmcap747548.sharepoint.com'\n",
    "site_name = 'Contoso'"
   ]
  },
  {
   "cell_type": "code",
   "execution_count": 15,
   "metadata": {},
   "outputs": [
    {
     "name": "stdout",
     "output_type": "stream",
     "text": [
      "Getting the Site ID...\n"
     ]
    }
   ],
   "source": [
    "print ('Getting the Site ID...')\n",
    "endpoint = 'https://graph.microsoft.com/v1.0/sites/' + f\"{site_domain}\" + ':/sites/' +  f\"{site_name}\" + ':/'\n",
    "result = make_ms_graph_request(client_auth['access_token'], endpoint)"
   ]
  },
  {
   "cell_type": "code",
   "execution_count": 16,
   "metadata": {},
   "outputs": [
    {
     "name": "stdout",
     "output_type": "stream",
     "text": [
      "Getting the Site ID...\n",
      "Site ID: mngenvmcap747548.sharepoint.com,877fe60f-a62d-4ed1-8eda-af543c437d2c,ac47d8a7-cd54-4344-bd9d-26ada5a075c0\n"
     ]
    }
   ],
   "source": [
    "print ('Getting the Site ID...')\n",
    "endpoint = 'https://graph.microsoft.com/v1.0/sites/' + f\"{site_domain}\" + ':/sites/' +  f\"{site_name}\" + ':/'\n",
    "result = make_ms_graph_request(client_auth['access_token'], endpoint)\n",
    "# site_id = result.json()[\"id\"].split(',')[1]\n",
    "site_id = result[\"id\"]\n",
    "print ('Site ID:', site_id)"
   ]
  },
  {
   "cell_type": "code",
   "execution_count": 17,
   "metadata": {},
   "outputs": [
    {
     "name": "stdout",
     "output_type": "stream",
     "text": [
      "Getting the Drive ID...\n"
     ]
    },
    {
     "data": {
      "text/plain": [
       "'b!D-Z_hy2m0U6O2q9UPEN9LKfYR6xUzURDvZ0mraWgdcAot0GWx37EQLiVD3sO7-vm'"
      ]
     },
     "execution_count": 17,
     "metadata": {},
     "output_type": "execute_result"
    }
   ],
   "source": [
    "print ('Getting the Drive ID...')\n",
    "drive_id = get_drive_id(client_auth['access_token'], site_id)\n",
    "drive_id"
   ]
  },
  {
   "cell_type": "code",
   "execution_count": 18,
   "metadata": {},
   "outputs": [
    {
     "name": "stderr",
     "output_type": "stream",
     "text": [
      "2023-12-08 11:59:12,731 - micro - MainProcess - INFO     Making request to Microsoft Graph API (2387473689.py:get_files_in_site:53)\n",
      "2023-12-08 11:59:13,304 - micro - MainProcess - INFO     Received response from Microsoft Graph API (2387473689.py:get_files_in_site:56)\n"
     ]
    }
   ],
   "source": [
    "files = get_files_in_site(client_auth['access_token'], site_id=site_id,drive_id=drive_id,minutes_ago=None,file_formats=['docx'])"
   ]
  },
  {
   "cell_type": "code",
   "execution_count": 19,
   "metadata": {},
   "outputs": [],
   "source": [
    "test = get_file_permissions(client_auth['access_token'], site_id=site_id, item_id='01W3WT6PHBIOXRSZRV2JEZN4VVOFZ4M3Q7')"
   ]
  },
  {
   "cell_type": "code",
   "execution_count": 20,
   "metadata": {},
   "outputs": [
    {
     "data": {
      "text/plain": [
       "[{'id': 'Q29udG9zbyBPd25lcnM',\n",
       "  'roles': ['owner'],\n",
       "  'shareId': 'Q29udG9zbyBPd25lcnM',\n",
       "  'grantedToV2': {'siteGroup': {'displayName': 'Contoso Owners',\n",
       "    'id': '3',\n",
       "    'loginName': 'Contoso Owners'}},\n",
       "  'grantedTo': {'user': {'displayName': 'Contoso Owners'}},\n",
       "  'inheritedFrom': {}},\n",
       " {'id': 'Q29udG9zbyBWaXNpdG9ycw',\n",
       "  'roles': ['read'],\n",
       "  'shareId': 'Q29udG9zbyBWaXNpdG9ycw',\n",
       "  'grantedToV2': {'siteGroup': {'displayName': 'Contoso Visitors',\n",
       "    'id': '4',\n",
       "    'loginName': 'Contoso Visitors'}},\n",
       "  'grantedTo': {'user': {'displayName': 'Contoso Visitors'}},\n",
       "  'inheritedFrom': {}},\n",
       " {'id': 'Q29udG9zbyBNZW1iZXJz',\n",
       "  'roles': ['write'],\n",
       "  'shareId': 'Q29udG9zbyBNZW1iZXJz',\n",
       "  'grantedToV2': {'siteGroup': {'displayName': 'Contoso Members',\n",
       "    'id': '5',\n",
       "    'loginName': 'Contoso Members'}},\n",
       "  'grantedTo': {'user': {'displayName': 'Contoso Members'}},\n",
       "  'inheritedFrom': {}},\n",
       " {'id': 'Yzowby5jfGZlZGVyYXRlZGRpcmVjdG9yeWNsYWltcHJvdmlkZXJ8NThiNWRlYTYtMWI5ZS00ZjU3LWJiZjYtNjRkOWViNjZmZjExX28',\n",
       "  'roles': ['owner'],\n",
       "  'shareId': 'Yzowby5jfGZlZGVyYXRlZGRpcmVjdG9yeWNsYWltcHJvdmlkZXJ8NThiNWRlYTYtMWI5ZS00ZjU3LWJiZjYtNjRkOWViNjZmZjExX28',\n",
       "  'grantedToV2': {'group': {'@odata.type': '#microsoft.graph.sharePointIdentity',\n",
       "    'displayName': 'Contoso Owners',\n",
       "    'email': 'Contoso@MngEnvMCAP747548.onmicrosoft.com',\n",
       "    'id': '58b5dea6-1b9e-4f57-bbf6-64d9eb66ff11'},\n",
       "   'siteUser': {'displayName': 'Contoso Owners',\n",
       "    'email': 'Contoso@MngEnvMCAP747548.onmicrosoft.com',\n",
       "    'id': '6',\n",
       "    'loginName': 'c:0o.c|federateddirectoryclaimprovider|58b5dea6-1b9e-4f57-bbf6-64d9eb66ff11_o'}},\n",
       "  'grantedTo': {'user': {'displayName': 'Contoso Owners',\n",
       "    'email': 'Contoso@MngEnvMCAP747548.onmicrosoft.com',\n",
       "    'id': '58b5dea6-1b9e-4f57-bbf6-64d9eb66ff11'}},\n",
       "  'inheritedFrom': {}}]"
      ]
     },
     "execution_count": 20,
     "metadata": {},
     "output_type": "execute_result"
    }
   ],
   "source": [
    "test"
   ]
  },
  {
   "cell_type": "code",
   "execution_count": 21,
   "metadata": {},
   "outputs": [
    {
     "data": {
      "text/plain": [
       "'{\"owner\": [\"Contoso Owners\", \"Contoso Owners\"], \"read\": [\"Contoso Visitors\"], \"write\": [\"Contoso Members\"]}'"
      ]
     },
     "execution_count": 21,
     "metadata": {},
     "output_type": "execute_result"
    }
   ],
   "source": [
    "group_users_by_role(test)"
   ]
  },
  {
   "cell_type": "code",
   "execution_count": 74,
   "metadata": {},
   "outputs": [],
   "source": [
    "def get_docx_content(site_id: str, file_name: str, drive_id: str, access_token: str) -> Optional[str]:\n",
    "    \"\"\"\n",
    "    Retrieve the text content from a .docx file in a specific site drive.\n",
    "\n",
    "    :param site_id: The site ID in Microsoft Graph.\n",
    "    :param file_name: The name of the .docx file.\n",
    "    :param drive_id: The drive ID in Microsoft Graph.\n",
    "    :param access_token: The access token for Microsoft Graph API authentication.\n",
    "    :return: Text content of the docx file or None if there's an error.\n",
    "    \"\"\"\n",
    "    \n",
    "    endpoint = f'https://graph.microsoft.com/v1.0/sites/{site_id}/drives/{drive_id}/root:/{file_name}:/content'\n",
    "    try:\n",
    "        logger.info(f'Starting request for file: {file_name}')\n",
    "        response = requests.get(endpoint, headers={'Authorization': 'Bearer ' + access_token})\n",
    "\n",
    "        # Log different outcomes of the response\n",
    "        if response.status_code != 200:\n",
    "            logger.error(f\"Failed to retrieve file content. Status code: {response.status_code}, Response: {response.text}\")\n",
    "            return None\n",
    "\n",
    "        file_content = response.content\n",
    "        document = Document(io.BytesIO(file_content))\n",
    "        content = \"\\n\".join([paragraph.text for paragraph in document.paragraphs])\n",
    "\n",
    "        logger.info(f'Successfully retrieved content for file: {file_name}')\n",
    "        return content\n",
    "    except requests.exceptions.RequestException as req_err:\n",
    "        logger.error(f\"Request error retrieving content for {file_name}: {req_err}\")\n",
    "        return None\n",
    "    except Exception as err:\n",
    "        logger.error(f\"General error retrieving content for {file_name}: {err}\")\n",
    "        return None"
   ]
  }
 ],
 "metadata": {
  "kernelspec": {
   "display_name": "build-your-own-copilot",
   "language": "python",
   "name": "python3"
  },
  "language_info": {
   "codemirror_mode": {
    "name": "ipython",
    "version": 3
   },
   "file_extension": ".py",
   "mimetype": "text/x-python",
   "name": "python",
   "nbconvert_exporter": "python",
   "pygments_lexer": "ipython3",
   "version": "3.9.18"
  }
 },
 "nbformat": 4,
 "nbformat_minor": 2
}
