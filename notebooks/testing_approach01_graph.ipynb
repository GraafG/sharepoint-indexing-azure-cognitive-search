{
 "cells": [
  {
   "cell_type": "code",
   "execution_count": 1,
   "metadata": {},
   "outputs": [
    {
     "name": "stdout",
     "output_type": "stream",
     "text": [
      "Directory changed to C:\\Users\\pablosal\\Desktop\\sharepoint-indexing-azure-cognitive-search\n"
     ]
    }
   ],
   "source": [
    "import os\n",
    "import msal\n",
    "from msal.application import ConfidentialClientApplication\n",
    "from dotenv import load_dotenv\n",
    "import jwt\n",
    "import json\n",
    "import requests\n",
    "from datetime import datetime, timedelta\n",
    "from typing import Optional, Dict, List\n",
    "\n",
    "# Define the target directory\n",
    "target_directory = r'C:\\Users\\pablosal\\Desktop\\sharepoint-indexing-azure-cognitive-search'\n",
    "\n",
    "# Load .env file\n",
    "load_dotenv()\n",
    "\n",
    "# Check if the directory exists\n",
    "if os.path.exists(target_directory):\n",
    "    # Change the current working directory\n",
    "    os.chdir(target_directory)\n",
    "    print(f\"Directory changed to {os.getcwd()}\")\n",
    "else:\n",
    "    print(f\"Directory {target_directory} does not exist.\")\n",
    "\n",
    "#load logging \n",
    "from utils.ml_logging import get_logger\n",
    "logger = get_logger()"
   ]
  },
  {
   "cell_type": "code",
   "execution_count": null,
   "metadata": {},
   "outputs": [],
   "source": [
    "# There needs to be a config.json file that looks like this:\n",
    "    \n",
    "# {\n",
    "#     \"authority\": \"https://login.microsoftonline.com/XXX\",\n",
    "#     \"client_id\": \"XXX\",\n",
    "#     \"scope\": [ \"https://graph.microsoft.com/.default\" ],\n",
    "#     \"secret\": \"XXX\",\n",
    "#     \"site_domain\": \"XXX.sharepoint.com\",\n",
    "#     \"site_name\": \"Mark8ProjectTeam\",\n",
    "#     \"include_auth_info\": true,\n",
    "#     \"search_service_name\": \"XXX\",\n",
    "#     \"search_index_name\": \"sharepoint-index-1\",\n",
    "#     \"search_admin_api_key\": \"XXX\"\n",
    "# }"
   ]
  },
  {
   "cell_type": "code",
   "execution_count": 2,
   "metadata": {},
   "outputs": [],
   "source": [
    "accessToken = None \n",
    "requestHeaders = None \n",
    "tokenExpiry = None \n",
    "queryResults = None "
   ]
  },
  {
   "cell_type": "code",
   "execution_count": 2,
   "metadata": {},
   "outputs": [],
   "source": [
    "# Get the variables\n",
    "tenantID = os.getenv('TENANT_ID')\n",
    "clientID = os.getenv('CLIENT_ID')\n",
    "clientSecret = os.getenv('CLIENT_SECRET')\n",
    "graphURI = 'https://graph.microsoft.com'\n",
    "authority = 'https://login.microsoftonline.com/' + tenantID\n",
    "scope = ['https://graph.microsoft.com/.default']"
   ]
  },
  {
   "cell_type": "code",
   "execution_count": 3,
   "metadata": {},
   "outputs": [],
   "source": [
    "def msgraph_auth(client_id: str, client_secret: str, authority: str, scope: list) -> ConfidentialClientApplication:\n",
    "    \"\"\"\n",
    "    Authenticate with Microsoft Graph using MSAL for Python.\n",
    "\n",
    "    This function authenticates with Microsoft Graph using the MSAL library. It attempts to acquire a token silently,\n",
    "    and if that fails, it tries to acquire a new token. It decodes and prints the acquired access token and its expiry time.\n",
    "\n",
    "    :param client_id: The application (client) ID of your Azure AD app registration.\n",
    "    :param client_secret: The client secret for your Azure AD app registration.\n",
    "    :param authority: The authority URL for your Azure AD tenant.\n",
    "    :param scope: Scopes required for the token.\n",
    "    :return: A dictionary with the access token and its expiry time if successful, None otherwise.\n",
    "    :raises Exception: If there are issues in acquiring or decoding the token.\n",
    "    \"\"\"\n",
    "    app = msal.ConfidentialClientApplication(client_id, authority=authority, client_credential=client_secret)\n",
    "    \n",
    "    try:\n",
    "        access_token = app.acquire_token_silent(scope, account=None)\n",
    "        if not access_token:\n",
    "            access_token = app.acquire_token_for_client(scopes=scope)\n",
    "            if 'access_token' in access_token:\n",
    "                logger.info('New access token retrieved....')\n",
    "            else:\n",
    "                logger.error('Error acquiring authorization token. Check your tenantID, clientID, and clientSecret.')\n",
    "                return None\n",
    "        else:\n",
    "            logger.info('Token retrieved from MSAL Cache....')\n",
    "\n",
    "        algorithms = [\"RS256\"]\n",
    "        decoded_access_token = jwt.decode(access_token['access_token'], algorithms=algorithms, options={\"verify_signature\": False})\n",
    "        access_token_formatted = json.dumps(decoded_access_token, indent=2)\n",
    "        logger.info('Decoded Access Token:\\n%s', access_token_formatted)\n",
    "\n",
    "        # Token Expiry\n",
    "        token_expiry = datetime.fromtimestamp(int(decoded_access_token['exp']))\n",
    "        logger.info('Token Expires at: %s', str(token_expiry))\n",
    "        return access_token\n",
    "    except Exception as err:\n",
    "        logger.error(\"Error in msgraph_auth: %s\", str(err))\n",
    "        raise\n"
   ]
  },
  {
   "cell_type": "code",
   "execution_count": 4,
   "metadata": {},
   "outputs": [
    {
     "name": "stderr",
     "output_type": "stream",
     "text": [
      "2023-12-06 01:01:39,084 - micro - MainProcess - INFO     New access token retrieved.... (1309348350.py:msgraph_auth:22)\n",
      "2023-12-06 01:01:39,084 - micro - MainProcess - INFO     Decoded Access Token:\n",
      "{\n",
      "  \"aud\": \"https://graph.microsoft.com\",\n",
      "  \"iss\": \"https://sts.windows.net/9495d8c9-4ebb-4107-b905-c7b45d1b7b7a/\",\n",
      "  \"iat\": 1701845798,\n",
      "  \"nbf\": 1701845798,\n",
      "  \"exp\": 1701849698,\n",
      "  \"aio\": \"E2VgYBBROMCs8qMiS07SOv7trJOiAA==\",\n",
      "  \"app_displayname\": \"dev-graph\",\n",
      "  \"appid\": \"118583ee-94ed-45dd-870b-73784045eb37\",\n",
      "  \"appidacr\": \"1\",\n",
      "  \"idp\": \"https://sts.windows.net/9495d8c9-4ebb-4107-b905-c7b45d1b7b7a/\",\n",
      "  \"idtyp\": \"app\",\n",
      "  \"oid\": \"4f614374-65fa-45fc-8369-cb616a6fe08f\",\n",
      "  \"rh\": \"0.Ab0AydiVlLtOB0G5Bce0XRt7egMAAAAAAAAAwAAAAAAAAADLAAA.\",\n",
      "  \"roles\": [\n",
      "    \"TeamsActivity.Read.All\",\n",
      "    \"SharePointTenantSettings.Read.All\",\n",
      "    \"People.Read.All\",\n",
      "    \"Sites.Read.All\",\n",
      "    \"Directory.Read.All\",\n",
      "    \"OnlineMeetingTranscript.Read.All\",\n",
      "    \"BrowserSiteLists.ReadWrite.All\",\n",
      "    \"Files.Read.All\",\n",
      "    \"Mail.Read\",\n",
      "    \"Chat.Read.All\"\n",
      "  ],\n",
      "  \"sub\": \"4f614374-65fa-45fc-8369-cb616a6fe08f\",\n",
      "  \"tenant_region_scope\": \"NA\",\n",
      "  \"tid\": \"9495d8c9-4ebb-4107-b905-c7b45d1b7b7a\",\n",
      "  \"uti\": \"ualqriPLIkSyG0yRnXtEAA\",\n",
      "  \"ver\": \"1.0\",\n",
      "  \"wids\": [\n",
      "    \"0997a1d0-0d1d-4acb-b408-d5ca73121e90\"\n",
      "  ],\n",
      "  \"xms_tcdt\": 1697638621\n",
      "} (1309348350.py:msgraph_auth:32)\n",
      "2023-12-06 01:01:39,084 - micro - MainProcess - INFO     Token Expires at: 2023-12-06 02:01:38 (1309348350.py:msgraph_auth:36)\n"
     ]
    }
   ],
   "source": [
    "client_auth = msgraph_auth(clientID,clientSecret,authority,scope)"
   ]
  },
  {
   "cell_type": "code",
   "execution_count": 5,
   "metadata": {},
   "outputs": [],
   "source": [
    "def make_ms_graph_request(access_token: str, url: str) -> Dict:\n",
    "    \"\"\"\n",
    "    Make a request to the Microsoft Graph API.\n",
    "\n",
    "    :param access_token: The access token for Microsoft Graph API authentication.\n",
    "    :param url: The URL for the Microsoft Graph API endpoint.\n",
    "    :return: The JSON response from the Microsoft Graph API.\n",
    "    :raises Exception: If there's an HTTP error or other issues in making the request.\n",
    "    \"\"\"\n",
    "    headers = {\"Authorization\": f\"Bearer {access_token}\"}\n",
    "    try:\n",
    "        response = requests.get(url, headers=headers)\n",
    "        response.raise_for_status()\n",
    "        return response.json()\n",
    "    except requests.exceptions.HTTPError as err:\n",
    "        logger.error(f\"HTTP Error: {err}\")\n",
    "        raise\n",
    "    except Exception as err:\n",
    "        logger.error(f\"Error in make_ms_graph_request: {err}\")\n",
    "        raise\n",
    "\n",
    "def get_drive_id(access_token: str, site_id: str) -> str:\n",
    "    \"\"\"\n",
    "    Get the drive ID from a Microsoft Graph site.\n",
    "\n",
    "    :param access_token: The access token for Microsoft Graph API authentication.\n",
    "    :param site_id: The site ID in Microsoft Graph.\n",
    "    :return: The drive ID.\n",
    "    :raises Exception: If there's an error in fetching the drive ID.\n",
    "    \"\"\"\n",
    "    url = f\"https://graph.microsoft.com/v1.0/sites/{site_id}/drive\"\n",
    "    try:\n",
    "        json_response = make_ms_graph_request(access_token, url)\n",
    "        return json_response[\"id\"]\n",
    "    except Exception as err:\n",
    "        logger.error(f\"Error in get_drive_id: {err}\")\n",
    "        raise\n",
    "\n",
    "def get_files_in_site(access_token: str, site_id: str, drive_id: str, minutes_ago: int = 0, file_formats: Optional[List[str]] = None) -> List[Dict]:\n",
    "    \"\"\"\n",
    "    Get a list of files in a site's drive, optionally filtered by creation or last modification time and file formats.\n",
    "\n",
    "    :param access_token: The access token for Microsoft Graph API authentication.\n",
    "    :param site_id: The site ID in Microsoft Graph.\n",
    "    :param drive_id: The drive ID in Microsoft Graph.\n",
    "    :param minutes_ago: Integer to filter files created or updated within the specified number of minutes from now.\n",
    "    :param file_formats: List of desired file formats.\n",
    "    :return: A list of file details.\n",
    "    :raises Exception: If there's an error in fetching file details.\n",
    "    \"\"\"\n",
    "    url = f\"https://graph.microsoft.com/v1.0/sites/{site_id}/drives/{drive_id}/root/children\"\n",
    "    try:\n",
    "        json_response = make_ms_graph_request(access_token, url)\n",
    "        files = json_response[\"value\"]\n",
    "        \n",
    "        if minutes_ago > 0:\n",
    "            time_limit = datetime.now() - timedelta(minutes=minutes_ago)\n",
    "            files = [file for file in files if datetime.fromisoformat(file['createdDateTime'][:-1]) > time_limit or \n",
    "                     datetime.fromisoformat(file['lastModifiedDateTime'][:-1]) > time_limit]\n",
    "\n",
    "        if file_formats:\n",
    "            files = [file for file in files if any(file['name'].endswith(f'.{fmt}') for fmt in file_formats)]\n",
    "\n",
    "        return files\n",
    "    except Exception as err:\n",
    "        logger.error(f\"Error in get_files_in_site: {err}\")\n",
    "        raise\n",
    " \n",
    "\n",
    "def get_file_permissions(access_token: str, site_id: str, item_id: str) -> List[Dict]:\n",
    "    \"\"\"\n",
    "    Get the permissions of a file in a site.\n",
    "\n",
    "    :param access_token: The access token for Microsoft Graph API authentication.\n",
    "    :param site_id: The site ID in Microsoft Graph.\n",
    "    :param item_id: The item ID of the file in Microsoft Graph.\n",
    "    :return: A list of permission details.\n",
    "    :raises Exception: If there's an error in fetching permission details.\n",
    "    \"\"\"\n",
    "    url = f\"https://graph.microsoft.com/v1.0/sites/{site_id}/items/{item_id}/permissions\"\n",
    "    try:\n",
    "        json_response = make_ms_graph_request(access_token, url)\n",
    "        return json_response[\"value\"]\n",
    "    except Exception as err:\n",
    "        logger.error(f\"Error in get_file_permissions: {err}\")\n",
    "        raise"
   ]
  },
  {
   "cell_type": "code",
   "execution_count": 6,
   "metadata": {},
   "outputs": [
    {
     "name": "stderr",
     "output_type": "stream",
     "text": [
      "2023-12-06 01:01:48,694 - micro - MainProcess - INFO     New access token retrieved.... (1309348350.py:msgraph_auth:22)\n",
      "2023-12-06 01:01:48,694 - micro - MainProcess - INFO     Decoded Access Token:\n",
      "{\n",
      "  \"aud\": \"https://graph.microsoft.com\",\n",
      "  \"iss\": \"https://sts.windows.net/9495d8c9-4ebb-4107-b905-c7b45d1b7b7a/\",\n",
      "  \"iat\": 1701845807,\n",
      "  \"nbf\": 1701845807,\n",
      "  \"exp\": 1701849707,\n",
      "  \"aio\": \"E2VgYCg0Mim8XH/kdYHhNd6ppm56AA==\",\n",
      "  \"app_displayname\": \"dev-graph\",\n",
      "  \"appid\": \"118583ee-94ed-45dd-870b-73784045eb37\",\n",
      "  \"appidacr\": \"1\",\n",
      "  \"idp\": \"https://sts.windows.net/9495d8c9-4ebb-4107-b905-c7b45d1b7b7a/\",\n",
      "  \"idtyp\": \"app\",\n",
      "  \"oid\": \"4f614374-65fa-45fc-8369-cb616a6fe08f\",\n",
      "  \"rh\": \"0.Ab0AydiVlLtOB0G5Bce0XRt7egMAAAAAAAAAwAAAAAAAAADLAAA.\",\n",
      "  \"roles\": [\n",
      "    \"TeamsActivity.Read.All\",\n",
      "    \"SharePointTenantSettings.Read.All\",\n",
      "    \"People.Read.All\",\n",
      "    \"Sites.Read.All\",\n",
      "    \"Directory.Read.All\",\n",
      "    \"OnlineMeetingTranscript.Read.All\",\n",
      "    \"BrowserSiteLists.ReadWrite.All\",\n",
      "    \"Files.Read.All\",\n",
      "    \"Mail.Read\",\n",
      "    \"Chat.Read.All\"\n",
      "  ],\n",
      "  \"sub\": \"4f614374-65fa-45fc-8369-cb616a6fe08f\",\n",
      "  \"tenant_region_scope\": \"NA\",\n",
      "  \"tid\": \"9495d8c9-4ebb-4107-b905-c7b45d1b7b7a\",\n",
      "  \"uti\": \"fZjBiB7HyUK7M50rzZReAA\",\n",
      "  \"ver\": \"1.0\",\n",
      "  \"wids\": [\n",
      "    \"0997a1d0-0d1d-4acb-b408-d5ca73121e90\"\n",
      "  ],\n",
      "  \"xms_tcdt\": 1697638621\n",
      "} (1309348350.py:msgraph_auth:32)\n",
      "2023-12-06 01:01:48,694 - micro - MainProcess - INFO     Token Expires at: 2023-12-06 02:01:47 (1309348350.py:msgraph_auth:36)\n"
     ]
    }
   ],
   "source": [
    "clien_auth = msgraph_auth(clientID,clientSecret,authority,scope)"
   ]
  },
  {
   "cell_type": "code",
   "execution_count": 7,
   "metadata": {},
   "outputs": [],
   "source": [
    "site_domain = \"mngenvmcap747548.sharepoint.com\"\n",
    "site_name= \"Contoso\""
   ]
  },
  {
   "cell_type": "code",
   "execution_count": 8,
   "metadata": {},
   "outputs": [
    {
     "name": "stdout",
     "output_type": "stream",
     "text": [
      "Getting the Site ID...\n"
     ]
    }
   ],
   "source": [
    "print ('Getting the Site ID...')\n",
    "endpoint = 'https://graph.microsoft.com/v1.0/sites/' + f\"{site_domain}\" + ':/sites/' +  f\"{site_name}\" + ':/'\n",
    "result = make_ms_graph_request(clien_auth['access_token'], endpoint)\n"
   ]
  },
  {
   "cell_type": "code",
   "execution_count": 9,
   "metadata": {},
   "outputs": [
    {
     "name": "stdout",
     "output_type": "stream",
     "text": [
      "Getting the Site ID...\n",
      "Site ID: mngenvmcap747548.sharepoint.com,877fe60f-a62d-4ed1-8eda-af543c437d2c,ac47d8a7-cd54-4344-bd9d-26ada5a075c0\n"
     ]
    }
   ],
   "source": [
    "print ('Getting the Site ID...')\n",
    "endpoint = 'https://graph.microsoft.com/v1.0/sites/' + f\"{site_domain}\" + ':/sites/' +  f\"{site_name}\" + ':/'\n",
    "result = make_ms_graph_request(clien_auth['access_token'], endpoint)\n",
    "# site_id = result.json()[\"id\"].split(',')[1]\n",
    "site_id = result[\"id\"]\n",
    "print ('Site ID:', site_id)"
   ]
  }
 ],
 "metadata": {
  "kernelspec": {
   "display_name": "build-your-own-copilot",
   "language": "python",
   "name": "python3"
  },
  "language_info": {
   "codemirror_mode": {
    "name": "ipython",
    "version": 3
   },
   "file_extension": ".py",
   "mimetype": "text/x-python",
   "name": "python",
   "nbconvert_exporter": "python",
   "pygments_lexer": "ipython3",
   "version": "3.9.18"
  }
 },
 "nbformat": 4,
 "nbformat_minor": 2
}
