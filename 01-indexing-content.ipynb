{
 "cells": [
  {
   "cell_type": "markdown",
   "id": "9e937eb9-d6c4-4514-b50b-1aa9d2e203fc",
   "metadata": {},
   "source": [
    "Before running this notebook, please ensure you have followed the steps to configure your SharePoint site to allow API access and have updated the config.json file with the appropriate config parameters\n",
    "\n",
    "This notebook walks through the following steps\n",
    "1) Create an Azure Cognitive Search Index to hold the content from a SharePoint Online hosted document\n",
    "2) Connect to a SharePoint site through the Micrsoft Graph REST API\n",
    "3) Retrieve the Site ID for the site\n",
    "4) Download the first file found that is of type .docx\n",
    "5) Extract the text from this file and upload to Cognitive Search\n",
    "\n",
    "Some useful resource for more details:\n",
    "https://learn.microsoft.com/en-us/azure/active-directory/develop/console-app-quickstart?pivots=devlang-python\n",
    "Create a Demo SharePoint Online Env: https://cdx.transform.microsoft.com/ -- to use this you need to either be a Microsoft Employee or part of the Microsoft Partner Program: https://partner.microsoft.com/dashboard/account/v3/enrollment/introduction/partnership"
   ]
  },
  {
   "cell_type": "code",
   "execution_count": null,
   "id": "c7a9aab9-b76f-496c-82f7-423df58d5626",
   "metadata": {},
   "outputs": [],
   "source": [
    "There needs to be a config.json file that looks like this:\n",
    "    \n",
    "{\n",
    "    \"authority\": \"https://login.microsoftonline.com/XXX\",\n",
    "    \"client_id\": \"XXX\",\n",
    "    \"scope\": [ \"https://graph.microsoft.com/.default\" ],\n",
    "    \"secret\": \"XXX\",\n",
    "    \"site_domain\": \"XXX.sharepoint.com\",\n",
    "    \"site_name\": \"Mark8ProjectTeam\",\n",
    "    \"include_auth_info\": true,\n",
    "    \"search_service_name\": \"XXX\",\n",
    "    \"search_index_name\": \"sharepoint-index-1\",\n",
    "    \"search_admin_api_key\": \"XXX\"\n",
    "}"
   ]
  },
  {
   "cell_type": "code",
   "execution_count": null,
   "id": "a9b483f6-fa97-44ce-b777-6653431fe428",
   "metadata": {},
   "outputs": [],
   "source": [
    "# !pip install azure-search-documents\n",
    "# !pip install msal\n",
    "# !pip install python-docx\n",
    "# !pip install langchain\n"
   ]
  },
  {
   "cell_type": "code",
   "execution_count": null,
   "id": "0e79bb9d-5ed4-4213-aaef-a36c6cac6bda",
   "metadata": {},
   "outputs": [],
   "source": [
    "import io\n",
    "import json\n",
    "import requests\n",
    "import msal\n",
    "from docx import Document  \n",
    "import pprint\n",
    "\n",
    "from azure.core.credentials import AzureKeyCredential\n",
    "from azure.search.documents.indexes import SearchIndexClient \n",
    "from azure.search.documents import SearchClient\n",
    "from azure.search.documents.indexes.models import (\n",
    "    ComplexField,\n",
    "    CorsOptions,\n",
    "    SearchIndex,\n",
    "    ScoringProfile,\n",
    "    SearchFieldDataType,\n",
    "    SimpleField,\n",
    "    SearchableField\n",
    ")\n",
    "\n",
    "#Load the configuration details for the SharePoint Online site as well as your Cognitive Search Service\n",
    "config = json.load(open(\"config.json\"))\n",
    "\n",
    "# Print out the current config\n",
    "pprint.pprint(config)\n",
    "\n",
    "# Set the service endpoint and API key from the environment\n",
    "# Create an SDK client\n",
    "endpoint = \"https://{}.search.windows.net/\".format(config[\"search_service_name\"])\n",
    "admin_client = SearchIndexClient(endpoint=endpoint,\n",
    "                      index_name=config[\"search_index_name\"],\n",
    "                      credential=AzureKeyCredential(config[\"search_admin_api_key\"]))\n",
    "\n",
    "search_client = SearchClient(endpoint=endpoint,\n",
    "                      index_name=config[\"search_index_name\"],\n",
    "                      credential=AzureKeyCredential(config[\"search_admin_api_key\"]))\n"
   ]
  },
  {
   "cell_type": "code",
   "execution_count": null,
   "id": "a6160236-993a-45bd-97dd-30acc3ee36ac",
   "metadata": {},
   "outputs": [],
   "source": [
    "# Delete the index if it exists\n",
    "try:\n",
    "    result = admin_client.delete_index(config[\"search_index_name\"])\n",
    "    print ('Index', config[\"search_index_name\"], 'Deleted')\n",
    "except Exception as ex:\n",
    "    print (ex)\n"
   ]
  },
  {
   "cell_type": "code",
   "execution_count": null,
   "id": "798d5cd5-6ab9-4960-a713-329fba58f5f8",
   "metadata": {},
   "outputs": [],
   "source": [
    "# Create the index\n",
    "fields = [\n",
    "        SimpleField(name=\"id\", type=SearchFieldDataType.String, filterable=True, sortable=True, key=True),\n",
    "        SearchableField(name=\"name\", type=SearchFieldDataType.String, filterable=True, sortable=True),\n",
    "        SimpleField(name=\"createdDateTime\", type=SearchFieldDataType.DateTimeOffset, facetable=True, filterable=True, sortable=True),\n",
    "        SimpleField(name=\"lastModifiedDateTime\", type=SearchFieldDataType.DateTimeOffset, facetable=True, filterable=True, sortable=True),\n",
    "        SimpleField(name=\"webUrl\", type=SearchFieldDataType.String),\n",
    "        SearchableField(name=\"content\", type=SearchFieldDataType.String, analyzer_name=\"en.lucene\")\n",
    "    ]\n",
    "cors_options = CorsOptions(allowed_origins=[\"*\"], max_age_in_seconds=60)\n",
    "scoring_profiles = []\n",
    "suggester = [{'name': 'sg', 'source_fields': ['name']}]\n",
    "\n",
    "index = SearchIndex(\n",
    "    name=config[\"search_index_name\"],\n",
    "    fields=fields,\n",
    "    scoring_profiles=scoring_profiles,\n",
    "    suggesters = suggester,\n",
    "    cors_options=cors_options)\n",
    "\n",
    "try:\n",
    "    result = admin_client.create_index(index)\n",
    "    print ('Index', result.name, 'created')\n",
    "except Exception as ex:\n",
    "    print (ex)"
   ]
  },
  {
   "cell_type": "code",
   "execution_count": null,
   "id": "193a67e6-03f7-43bf-a633-3bd19599b9ab",
   "metadata": {},
   "outputs": [],
   "source": [
    "# Functions to authenticate to SharePoint Online site and to perform a Graph API request\n",
    "def authenticate():\n",
    "    # Create a preferably long-lived app instance which maintains a token cache.\n",
    "    app = msal.ConfidentialClientApplication(\n",
    "        config[\"client_id\"], authority=config[\"authority\"],\n",
    "        client_credential=config[\"secret\"],\n",
    "        # token_cache=...  # Default cache is in memory only.\n",
    "                           # You can learn how to use SerializableTokenCache from\n",
    "                           # https://msal-python.rtfd.io/en/latest/#msal.SerializableTokenCache\n",
    "        )\n",
    "\n",
    "    # The pattern to acquire a token looks like this.\n",
    "    result = None\n",
    "\n",
    "    # Firstly, looks up a token from cache\n",
    "    # Since we are looking for token for the current app, NOT for an end user,\n",
    "    # notice we give account parameter as None.\n",
    "    result = app.acquire_token_silent(config[\"scope\"], account=None)\n",
    "\n",
    "    if not result:\n",
    "        print(\"No suitable token exists in cache. Getting a new one from AAD...\")\n",
    "        result = app.acquire_token_for_client(scopes=config[\"scope\"])\n",
    "        \n",
    "    return result\n",
    "\n",
    "\n",
    "def exec_graph_request(endpoint, access_token):\n",
    "    # Calling graph using the access token\n",
    "    return requests.get(  # Use token to call downstream service\n",
    "        endpoint,\n",
    "        headers={'Authorization': 'Bearer ' + access_token}, )\n"
   ]
  },
  {
   "cell_type": "code",
   "execution_count": null,
   "id": "fbf2fb79-e638-4dfd-86b2-b5600657f788",
   "metadata": {},
   "outputs": [],
   "source": [
    "def get_drive_id(access_token, site_id):  \n",
    "    url = f\"https://graph.microsoft.com/v1.0/sites/{site_id}/drive\"  \n",
    "    headers = {  \n",
    "        \"Authorization\": f\"Bearer {access_token}\"  \n",
    "    }  \n",
    "    response = requests.get(url, headers=headers)  \n",
    "    response.raise_for_status()  \n",
    "    return response.json()[\"id\"]  \n",
    "\n",
    "\n",
    "def get_files_in_site(access_token, site_id, drive_id):  \n",
    "    url = f\"https://graph.microsoft.com/v1.0/sites/{site_id}/drives/{drive_id}/root/children\"  \n",
    "    headers = {  \n",
    "        \"Authorization\": f\"Bearer {access_token}\"  \n",
    "    }  \n",
    "    response = requests.get(url, headers=headers)  \n",
    "    response.raise_for_status()  \n",
    "    return response.json()[\"value\"]  \n",
    "\n",
    "def get_file_permissions(access_token, site_id, item_id):  \n",
    "    url = f\"https://graph.microsoft.com/v1.0/sites/{site_id}/items/{item_id}/permissions\"  \n",
    "    headers = {  \n",
    "        \"Authorization\": f\"Bearer {access_token}\"  \n",
    "    }  \n",
    "    response = requests.get(url, headers=headers)  \n",
    "    response.raise_for_status()  \n",
    "    return response.json()[\"value\"]  "
   ]
  },
  {
   "cell_type": "code",
   "execution_count": null,
   "id": "5622eae8-a165-4f3e-bde8-ea3700fda9bb",
   "metadata": {},
   "outputs": [],
   "source": [
    "# Authenticate to SharePoint Online and print out the token details\n",
    "auth = authenticate()\n",
    "print (auth)"
   ]
  },
  {
   "cell_type": "code",
   "execution_count": null,
   "id": "c4f65f21-0cac-4ae8-8780-01988a03d78d",
   "metadata": {},
   "outputs": [],
   "source": [
    "# Get Site ID\n",
    "print ('Getting the Site ID...')\n",
    "endpoint = 'https://graph.microsoft.com/v1.0/sites/' + config[\"site_domain\"] + ':/sites/' + config[\"site_name\"] + ':/'\n",
    "result = exec_graph_request(endpoint, auth['access_token'])\n",
    "# site_id = result.json()[\"id\"].split(',')[1]\n",
    "site_id = result.json()[\"id\"]\n",
    "print ('Site ID:', site_id)"
   ]
  },
  {
   "cell_type": "code",
   "execution_count": null,
   "id": "a528129c-6261-4c09-82e7-c46c8862c43e",
   "metadata": {},
   "outputs": [],
   "source": [
    "print ('Getting the Drive ID...')\n",
    "drive_id = get_drive_id(auth['access_token'], site_id)"
   ]
  },
  {
   "cell_type": "code",
   "execution_count": null,
   "id": "63f93693-a3f6-484a-93e1-fb3242c641f1",
   "metadata": {},
   "outputs": [],
   "source": [
    "for file in get_files_in_site(auth['access_token'], site_id, drive_id):\n",
    "    print (file)\n",
    "    break"
   ]
  },
  {
   "cell_type": "code",
   "execution_count": null,
   "id": "9ddca69a-9f86-4998-8f43-2a2cc397a504",
   "metadata": {},
   "outputs": [],
   "source": [
    "pprint.pprint(file)"
   ]
  },
  {
   "cell_type": "code",
   "execution_count": null,
   "id": "cad4a572-a7ad-4f60-9dd2-f4539a61f745",
   "metadata": {},
   "outputs": [],
   "source": [
    "get_file_permissions(auth['access_token'], site_id, '01O33TVYTDCM4WT7NTYFHKL6FNRU5PYK5W')"
   ]
  },
  {
   "cell_type": "code",
   "execution_count": null,
   "id": "cd39ced9-a437-4c16-aedb-0ae8ed896ec2",
   "metadata": {},
   "outputs": [],
   "source": []
  },
  {
   "cell_type": "code",
   "execution_count": null,
   "id": "2906e78c-576e-4d4e-ae02-46fa3944e558",
   "metadata": {},
   "outputs": [],
   "source": [
    "files = get_files_in_site(auth['access_token'], site_id, drive_id)  \n",
    "\n",
    "for file in files:  \n",
    "    print(f\"File name: {file['name']} - Item ID: {file['id']}\")  "
   ]
  },
  {
   "cell_type": "markdown",
   "id": "12c4fea8-82eb-4ba9-b9b2-4e44a800d435",
   "metadata": {},
   "source": [
    "When a delta query is executed Microsoft Graph sends a response containing the requested resource and a state token.\n",
    "\n",
    "a. If a @odata.nextLink URL is returned, there may be additional pages of data to be retrieved in the session. The application continues making requests using the @odata.nextLink URL to retrieve all pages of data until a @odata.deltaLink URL is returned in the response.\n",
    "\n",
    "b. If a @odata.deltaLink URL is returned, there is no more data about the existing state of the resource to be returned. For future requests, the application uses the @odata.deltaLink URL to learn about changes to the resource.\n",
    "\n",
    "For this first demo, we know it can contain all files in a single request. We will handle changes in a subsequent notebook."
   ]
  },
  {
   "cell_type": "code",
   "execution_count": null,
   "id": "6f17866b-4927-4906-b94d-454ebc1bdf44",
   "metadata": {},
   "outputs": [],
   "source": [
    "# Iterage files in SharePoint online until it finds the first Word document\n",
    "# Extract the content from this file\n",
    "\n",
    "print ('Looking through files...')\n",
    "# Load some documents to the index\n",
    "documents = []\n",
    "endpoint = 'https://graph.microsoft.com/v1.0/sites/' + site_id + '/drive/root/delta'\n",
    "json_result = exec_graph_request(endpoint, auth['access_token']).json()\n",
    "\n",
    "last_modified_q = json_result['@odata.deltaLink']\n",
    "for v in json_result['value']:\n",
    "    if 'file' in v:\n",
    "        # If file is Word\n",
    "        if v[\"file\"][\"mimeType\"] == 'application/vnd.openxmlformats-officedocument.wordprocessingml.document':\n",
    "            json_doc = {\"@search.action\": \"upload\"}\n",
    "            print (v[\"createdDateTime\"])\n",
    "            print (v[\"id\"])\n",
    "            print (v[\"lastModifiedDateTime\"])\n",
    "            print (v[\"name\"])\n",
    "            print (v[\"webUrl\"])\n",
    "            \n",
    "            json_doc[\"id\"] = v[\"id\"]\n",
    "            json_doc[\"name\"] = v[\"name\"]\n",
    "            json_doc[\"webUrl\"] = v[\"webUrl\"]\n",
    "            json_doc[\"createdDateTime\"] = v[\"createdDateTime\"]\n",
    "            json_doc[\"lastModifiedDateTime\"] = v[\"lastModifiedDateTime\"]\n",
    "            \n",
    "            # Get text from a docx file  \n",
    "            # endpoint = 'https://graph.microsoft.com/v1.0/sites/' + site_id + '/drive/root:/' + v[\"name\"] + ':/content'\n",
    "            \n",
    "            endpoint = 'https://graph.microsoft.com/v1.0/sites/' + site_id + '/drive/root:/' + v[\"name\"] + ':/content'\n",
    "            \n",
    "            \n",
    "            # https://graph.microsoft.com/(version)/sites/(site-id)/drive/(drive-id)/items/(item-id)/content\n",
    "\n",
    "            file_content = exec_graph_request(endpoint, auth['access_token']).content\n",
    "            try:\n",
    "                document = Document(io.BytesIO(file_content))\n",
    "                content = \"\\n\".join([paragraph.text for paragraph in document.paragraphs])  \n",
    "\n",
    "                print (\"\\n--------------------------\")\n",
    "\n",
    "                # print (\"File Content\")\n",
    "                # print (\"--------------------------\")\n",
    "                # print (content)\n",
    "                json_doc[\"content\"] = content\n",
    "\n",
    "                documents.append(json_doc)\n",
    "            except Exception as ex:\n",
    "                print ('Error:', ex)\n",
    "            \n"
   ]
  },
  {
   "cell_type": "code",
   "execution_count": null,
   "id": "9197c56b-ba65-4ca8-8068-dd99ef377998",
   "metadata": {},
   "outputs": [],
   "source": []
  },
  {
   "cell_type": "code",
   "execution_count": null,
   "id": "dd87985d-1e59-4021-b13d-3590c7c952a0",
   "metadata": {},
   "outputs": [],
   "source": [
    "try:\n",
    "    result = search_client.upload_documents(documents=documents)\n",
    "    print(\"Upload of new document succeeded: {}\".format(result[0].succeeded))\n",
    "except Exception as ex:\n",
    "    print (ex.message)"
   ]
  },
  {
   "cell_type": "code",
   "execution_count": null,
   "id": "31ada310-f465-4740-96e6-73d950ff7c6f",
   "metadata": {},
   "outputs": [],
   "source": [
    "# Perform a search on the index and iterate through results\n",
    "# Switch to the Azure Cognitive Search SDK for this\n",
    "results =  search_client.search(search_text=\"marketing\")\n",
    "\n",
    "for result in results:\n",
    "    print(\"{}: {}\".format(result[\"id\"], result[\"name\"]))\n",
    "    print(\"{}\".format(result[\"content\"]))"
   ]
  },
  {
   "cell_type": "code",
   "execution_count": null,
   "id": "8c67de7e-7175-4eb4-b46c-d16430718e14",
   "metadata": {},
   "outputs": [],
   "source": []
  }
 ],
 "metadata": {
  "kernelspec": {
   "display_name": "py38_default",
   "language": "python",
   "name": "py38_default"
  },
  "language_info": {
   "codemirror_mode": {
    "name": "ipython",
    "version": 3
   },
   "file_extension": ".py",
   "mimetype": "text/x-python",
   "name": "python",
   "nbconvert_exporter": "python",
   "pygments_lexer": "ipython3",
   "version": "3.9.10"
  }
 },
 "nbformat": 4,
 "nbformat_minor": 5
}
